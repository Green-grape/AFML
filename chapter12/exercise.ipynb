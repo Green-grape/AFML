{
 "cells": [
  {
   "cell_type": "markdown",
   "id": "958ade8f",
   "metadata": {},
   "source": [
    "12.1 Suppose that you develop a momentum strategy on a futures contract, where   \n",
    "the forecast is based on an AR(1) process. You backtest this strategy using the   \n",
    "WF method, and the Sharpe ratio is 1.5. You then repeat the backtest on the   \n",
    "reversed series and achieve a Sharpe ratio of –1.5. What would be the mathe-   \n",
    "matical grounds for disregarding the second result, if any?     "
   ]
  },
  {
   "cell_type": "markdown",
   "id": "4607e408",
   "metadata": {
    "vscode": {
     "languageId": "plaintext"
    }
   },
   "source": [
    "첫 번째는 AR(1) 모델은 시간 방향에 종속적이므로 시간의 순서를 바꾸면 AR(1) 구조를 따르지 않는다.\n",
    "두 번째는 명백한 historical interpetation이 없기 때문이다. \n",
    "위의 2가지 이유 때문에 수학적으로 해당 결과를 버릴 수 있다. "
   ]
  },
  {
   "cell_type": "code",
   "execution_count": null,
   "id": "5e6b5198",
   "metadata": {
    "vscode": {
     "languageId": "plaintext"
    }
   },
   "outputs": [],
   "source": [
    "12.2 You develop a mean-reverting strategy on a futures contract.Your WF backtest\n",
    "achieves a Sharpe ratio of 1.5. You increase the length of the warm-up period,\n",
    "and the Sharpe ratio drops to 0.7.You go a head and present only the result with\n",
    "the higher Sharpe ratio, arguing that a strategy with a shorter warm-up is more\n",
    "realistic.Is this selection bias?"
   ]
  },
  {
   "cell_type": "markdown",
   "id": "7b96751b",
   "metadata": {},
   "source": [
    "Selection bias이다. 위와 같은 결과가 나왔다면 사실 초반 구간에서 성능이 매우 좋고 이후에 성능이 떨어지는 것을 의미하는데\n",
    "성능이 좋지 못한 구간만 임의롤 제거한 것이기 때문이다.\n"
   ]
  },
  {
   "cell_type": "markdown",
   "id": "2ef9f5f9",
   "metadata": {},
   "source": [
    "12.3 Your strategy achieves a Sharpe ratio of 1.5 on a WF backtest, but a Sharpe\n",
    "ratio of 0.7 on a CV backtest. You go ahead and present only the result with\n",
    "the higher Sharpe ratio, arguing that the WF backtest is historically accurate,\n",
    "while the CV backtest is a scenario simulation,or an inferential exercise.Is this\n",
    "selection bias?"
   ]
  },
  {
   "cell_type": "markdown",
   "id": "2184a333",
   "metadata": {},
   "source": [
    "전략에 따라 다르지만 selection bias일 가능성이 크다. 결국 CV에서 성능이 잘 나오지 않았다는 것은 특정한 시나리오에서 \n",
    "성능이 좋지 못했다는 것을 의미하기 때문이다. 하지만 예외적으로 어떤 전략이 특정한 regime에서만 반응하거나 구조적인 변화에 대응하는 모델과 같이 반드시 역사적 해석이 들어가는 형태라면 명확한 근거와 설명을 할 수 있다면 WF가 더 현실적인 평가가 될 수도 있다."
   ]
  },
  {
   "cell_type": "markdown",
   "id": "e699cc54",
   "metadata": {},
   "source": [
    "12.4 Your strategy produces 100,000 forecasts over time. You would like to derive\n",
    "the CPCV distribution of Sharpe ratios by generating 1,000 paths.What are the\n",
    "possible combinations of parameters (N,k) that will allow you to achieve that?"
   ]
  },
  {
   "cell_type": "markdown",
   "id": "99e54924",
   "metadata": {},
   "source": [
    "$\\phi[N,k]=\\frac{k}{N}(\\begin{matrix}N \\\\ N-k\\end{matrix}), (N<100000, k \\le N/2)$ -> (1001 2)\n",
    "\n",
    "($\\phi[N, 2]=N-1$)"
   ]
  },
  {
   "cell_type": "code",
   "execution_count": null,
   "id": "0115ba94",
   "metadata": {
    "vscode": {
     "languageId": "plaintext"
    }
   },
   "outputs": [],
   "source": [
    "12.5 You discover a strategy that achieves a Sharpe ratio of 1.5 in a WF backtest.You\n",
    "write a paper explaining the theory that would justify such result, and submit \n",
    "it to an academic journal. The editor replies that one referee has requested you\n",
    "repeat your backtest using a CPCV method with N= 100 and k= 2,including\n",
    "your code and full datasets.You follow these instructions,and the mean Sharpe\n",
    "ratio is–1 with a standard deviation of 0.5.Furious,you do not reply,but instead\n",
    "withdraw your submission,and resubmit in a different journal of higher impact\n",
    "factor. After 6 months, your paper is accepted. You appease your conscience\n",
    "thinking that, if the discovery is false, it is the journal’s fault for not having\n",
    "requested a CPCVtest.You think,“It cannot be unethical,since it is permitted,\n",
    "and everybody does it.” What are the arguments, scientific or ethical, to justify\n",
    "your actions?"
   ]
  },
  {
   "cell_type": "markdown",
   "id": "dda7c01b",
   "metadata": {},
   "source": []
  }
 ],
 "metadata": {
  "language_info": {
   "name": "python"
  }
 },
 "nbformat": 4,
 "nbformat_minor": 5
}
