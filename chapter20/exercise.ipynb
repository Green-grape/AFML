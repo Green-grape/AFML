{
 "cells": [
  {
   "cell_type": "markdown",
   "id": "eb84141a",
   "metadata": {},
   "source": [
    "20.1 Run Snippets20.1 and 20.2 with timeit.   \n",
    "Repeat 10 batches of 100 executions.   \n",
    "What is the minimum elapsed time for each snippet?   "
   ]
  },
  {
   "cell_type": "code",
   "execution_count": 1,
   "id": "984ab9d3",
   "metadata": {},
   "outputs": [
    {
     "name": "stdout",
     "output_type": "stream",
     "text": [
      "Min Normal Cartesian Elapsed Times: 0.011711583007127047\n",
      "Min Vectorized Cartesian Elapsed Times: 0.03308829199522734\n"
     ]
    }
   ],
   "source": [
    "import pandas as pd\n",
    "import numpy as np\n",
    "import timeit\n",
    "from itertools import product\n",
    "                            \n",
    "def normal_cartesian():\n",
    "    ret=[]\n",
    "    dict0 = {\n",
    "        'a': ['a1', 'a2', 'a3'],     # 3\n",
    "        'b': ['b1', 'b2', 'b3'],     # 3\n",
    "        'c': ['c1', 'c2', 'c3'],     # 3\n",
    "        'd': ['d1', 'd2', 'd3'],     # 3\n",
    "        'e': ['e1', 'e2', 'e3'],     # 3\n",
    "        'f': ['f1', 'f2', 'f3', 'f4']  # 4\n",
    "    }\n",
    "    for a in dict0['a']:\n",
    "        for b in dict0['b']:\n",
    "            for c in dict0['c']:\n",
    "                for d in dict0['d']:\n",
    "                    for e in dict0['e']:\n",
    "                        for f in dict0['f']:\n",
    "                            ret.append({'a': a, 'b': b, 'c': c, 'd': d, 'e': e, 'f': f})\n",
    "    return ret\n",
    "\n",
    "\n",
    "def vectorized_cartesian():\n",
    "    dict0 = {\n",
    "        'a': ['a1', 'a2', 'a3'],     # 3\n",
    "        'b': ['b1', 'b2', 'b3'],     # 3\n",
    "        'c': ['c1', 'c2', 'c3'],     # 3\n",
    "        'd': ['d1', 'd2', 'd3'],     # 3\n",
    "        'e': ['e1', 'e2', 'e3'],     # 3\n",
    "        'f': ['f1', 'f2', 'f3', 'f4']  # 4\n",
    "    }\n",
    "    jobs=(dict(zip(dict0, x)) for x in product(*dict0.values()))\n",
    "    ret=[]\n",
    "    for job in jobs:\n",
    "        ret.append(job)\n",
    "    return ret\n",
    "\n",
    "\n",
    "def timeit_snippet(snippet, batches=10, number=100):\n",
    "    elapsed_times = []\n",
    "    for _ in range(batches):\n",
    "        timer = timeit.Timer(snippet)\n",
    "        elapsed_time = timer.timeit(number=number)\n",
    "        elapsed_times.append(elapsed_time)\n",
    "    return elapsed_times\n",
    "\n",
    "\n",
    "normal_times = timeit_snippet(lambda: normal_cartesian(), batches=10, number=100)\n",
    "vectorized_times = timeit_snippet(lambda: vectorized_cartesian(), batches=10, number=100)\n",
    "print(\"Min Normal Cartesian Elapsed Times:\", min(normal_times))\n",
    "print(\"Min Vectorized Cartesian Elapsed Times:\", min(vectorized_times))\n"
   ]
  },
  {
   "cell_type": "markdown",
   "id": "aabb68be",
   "metadata": {},
   "source": [
    "20.2 The instructions in Snippet 20.2 are very useful for unit testing, brute force   \n",
    "searches,and scenario analysis. Can you remember where else in the book have     \n",
    "you seen them? Where else could they have been used?  "
   ]
  },
  {
   "cell_type": "markdown",
   "id": "df004dae",
   "metadata": {},
   "source": [
    "Trading Rule의 threshold 결정할때 상당히 유용하게 사용할 수 있을 것이다."
   ]
  },
  {
   "cell_type": "markdown",
   "id": "8d21a856",
   "metadata": {},
   "source": [
    "20.3 Adjust Snippet20.4 to for mmolecules using a two-nested loops scheme,rather     \n",
    "than a linear scheme."
   ]
  },
  {
   "cell_type": "code",
   "execution_count": null,
   "id": "7e9c6e28",
   "metadata": {},
   "outputs": [
    {
     "name": "stdout",
     "output_type": "stream",
     "text": [
      "[[1.1040348329988774, 1.1091181250085356, 1.1468629999872064, 1.1127782920084428, 1.1650806250108872, 1.1426218340056948, 1.1234992909885477, 1.092508708999958, 1.4015403749945108, 1.1182131249952363]]\n",
      "Min Multi-thread Barrier Touch Elapsed Times: 1.092508708999958\n"
     ]
    }
   ],
   "source": [
    "from util import multi_thread_barrier_touch, timeit_snippet, get_barrier_touch\n",
    "import numpy as np\n",
    "\n",
    "r=np.random.normal(0, 0.01, (1000, 10000))  # Simulated returns\n",
    "times= timeit_snippet(lambda: multi_thread_barrier_touch(r, width=0.5, num_threads=8, mode=\"lower_nest\"), batches=1, number=10)\n",
    "print(\"Min Multi-thread Barrier Touch Elapsed Times:\", min(times[0]))"
   ]
  },
  {
   "cell_type": "markdown",
   "id": "faabd03a",
   "metadata": {},
   "source": [
    "20.4 Compare with timeit:  \n",
    "(a) Snippet20.4,by repeating 10 batches of 100 executions. What is the minimum elapsed time for each snippet?"
   ]
  },
  {
   "cell_type": "code",
   "execution_count": 2,
   "id": "dd6024e9",
   "metadata": {},
   "outputs": [
    {
     "name": "stdout",
     "output_type": "stream",
     "text": [
      "Batch 1 Elapsed Min Time: 0.8320009580056649\n",
      "Batch 2 Elapsed Min Time: 0.8241490829968825\n",
      "Batch 3 Elapsed Min Time: 0.8590347089921124\n",
      "Batch 4 Elapsed Min Time: 0.8464154589892132\n",
      "Batch 5 Elapsed Min Time: 0.8303700420074165\n",
      "Batch 6 Elapsed Min Time: 0.8553720830095699\n",
      "Batch 7 Elapsed Min Time: 0.8319567500002449\n",
      "Batch 8 Elapsed Min Time: 0.8608050000038929\n",
      "Batch 9 Elapsed Min Time: 0.855482833008864\n",
      "Batch 10 Elapsed Min Time: 0.8785072919999948\n"
     ]
    }
   ],
   "source": [
    "times= timeit_snippet(lambda: multi_thread_barrier_touch(r, width=0.5, num_threads=8, mode=\"linear\"), batches=10, number=10)\n",
    "for i in range(10):\n",
    "    print(f\"Batch {i+1} Elapsed Min Time:\", min(times[i]))"
   ]
  },
  {
   "cell_type": "markdown",
   "id": "adcdf425",
   "metadata": {},
   "source": [
    "(b) Modify Snippet20.4 (from exercise 3),by repeating 10 batches of 100 executions. What is the minimum elapsed time for each snippet?"
   ]
  },
  {
   "cell_type": "code",
   "execution_count": 3,
   "id": "ffaf2dd6",
   "metadata": {},
   "outputs": [
    {
     "name": "stdout",
     "output_type": "stream",
     "text": [
      "Batch 1 Elapsed Min Time for upper_nest: 1.1586178330035182\n",
      "Batch 2 Elapsed Min Time for upper_nest: 1.1177244999998948\n",
      "Batch 3 Elapsed Min Time for upper_nest: 1.1159536250052042\n",
      "Batch 4 Elapsed Min Time for upper_nest: 1.1592967499891529\n",
      "Batch 5 Elapsed Min Time for upper_nest: 1.1475418750051176\n",
      "Batch 6 Elapsed Min Time for upper_nest: 1.1848103340016678\n",
      "Batch 7 Elapsed Min Time for upper_nest: 1.195459166992805\n",
      "Batch 8 Elapsed Min Time for upper_nest: 1.1846754169964697\n",
      "Batch 9 Elapsed Min Time for upper_nest: 1.1791347499965923\n",
      "Batch 10 Elapsed Min Time for upper_nest: 1.1787361669994425\n",
      "Batch 1 Elapsed Min Time for lower_nest: 1.1925396250007907\n",
      "Batch 2 Elapsed Min Time for lower_nest: 1.1288349160022335\n",
      "Batch 3 Elapsed Min Time for lower_nest: 1.1205275829997845\n",
      "Batch 4 Elapsed Min Time for lower_nest: 1.1444188750028843\n",
      "Batch 5 Elapsed Min Time for lower_nest: 1.101018291010405\n",
      "Batch 6 Elapsed Min Time for lower_nest: 1.1578704999992624\n",
      "Batch 7 Elapsed Min Time for lower_nest: 1.14081008300127\n",
      "Batch 8 Elapsed Min Time for lower_nest: 1.1571973329992034\n",
      "Batch 9 Elapsed Min Time for lower_nest: 1.140799375003553\n",
      "Batch 10 Elapsed Min Time for lower_nest: 1.1496987090067705\n"
     ]
    }
   ],
   "source": [
    "for mode in [\"upper_nest\", \"lower_nest\"]:\n",
    "    times = timeit_snippet(lambda: multi_thread_barrier_touch(r, width=0.5, num_threads=8, mode=mode), batches=10, number=10)\n",
    "    for i in range(10):\n",
    "        print(f\"Batch {i+1} Elapsed Min Time for {mode}:\", min(times[i]))"
   ]
  },
  {
   "cell_type": "markdown",
   "id": "feba550b",
   "metadata": {},
   "source": [
    "20.5 Simplify Snippet 20.4 by using mpPandasObj."
   ]
  },
  {
   "cell_type": "code",
   "execution_count": 4,
   "id": "099577ce",
   "metadata": {},
   "outputs": [],
   "source": [
    "from util import mpPandasObj, get_barrier_touch\n",
    "\n",
    "price=np.log((1+r).cumprod(axis=0))\n",
    "\n",
    "times= timeit_snippet(lambda: mpPandasObj(get_barrier_touch, (\"price\", price), num_threads=8,linear_mols=True,width=0.5), batches=10, number=10)"
   ]
  },
  {
   "cell_type": "code",
   "execution_count": 6,
   "id": "c828135a",
   "metadata": {},
   "outputs": [
    {
     "name": "stdout",
     "output_type": "stream",
     "text": [
      "Batch 1 Elapsed Min Time: 0.7538561670080526\n",
      "Batch 2 Elapsed Min Time: 0.7599625000002561\n",
      "Batch 3 Elapsed Min Time: 0.7493022499984363\n",
      "Batch 4 Elapsed Min Time: 0.743081250009709\n",
      "Batch 5 Elapsed Min Time: 0.7602649580076104\n",
      "Batch 6 Elapsed Min Time: 0.7226747910026461\n",
      "Batch 7 Elapsed Min Time: 0.7136972080043051\n",
      "Batch 8 Elapsed Min Time: 0.7105966670060297\n",
      "Batch 9 Elapsed Min Time: 0.7280133340100292\n",
      "Batch 10 Elapsed Min Time: 0.7250233340018895\n"
     ]
    }
   ],
   "source": [
    "for i in range(10):\n",
    "    print(f\"Batch {i+1} Elapsed Min Time:\", min(times[i]))"
   ]
  },
  {
   "cell_type": "markdown",
   "id": "00a0a366",
   "metadata": {},
   "source": [
    "20.6 Modify mpPandasObj to handle the possibility of forming molecules using a\n",
    "two-nested loops scheme with an upper triangular structure."
   ]
  },
  {
   "cell_type": "code",
   "execution_count": 7,
   "id": "b0e93c86",
   "metadata": {},
   "outputs": [
    {
     "name": "stdout",
     "output_type": "stream",
     "text": [
      "Batch 1 Elapsed Min Time: 1.065762458005338\n",
      "Batch 2 Elapsed Min Time: 1.0408395840058802\n",
      "Batch 3 Elapsed Min Time: 1.0494476669991855\n",
      "Batch 4 Elapsed Min Time: 1.0275494999950752\n",
      "Batch 5 Elapsed Min Time: 1.0626218340039486\n",
      "Batch 6 Elapsed Min Time: 1.0321894169901498\n",
      "Batch 7 Elapsed Min Time: 1.0772759579995181\n",
      "Batch 8 Elapsed Min Time: 1.0512247500009835\n",
      "Batch 9 Elapsed Min Time: 1.0073582910117693\n",
      "Batch 10 Elapsed Min Time: 1.0316412920074072\n"
     ]
    }
   ],
   "source": [
    "times= timeit_snippet(lambda: mpPandasObj(get_barrier_touch, (\"price\", price), num_threads=8,linear_mols=False,width=0.5), batches=10, number=10)\n",
    "for i in range(10):\n",
    "    print(f\"Batch {i+1} Elapsed Min Time:\", min(times[i]))"
   ]
  },
  {
   "cell_type": "markdown",
   "id": "8e753d47",
   "metadata": {},
   "source": []
  }
 ],
 "metadata": {
  "kernelspec": {
   "display_name": "AFML",
   "language": "python",
   "name": "python3"
  },
  "language_info": {
   "codemirror_mode": {
    "name": "ipython",
    "version": 3
   },
   "file_extension": ".py",
   "mimetype": "text/x-python",
   "name": "python",
   "nbconvert_exporter": "python",
   "pygments_lexer": "ipython3",
   "version": "3.12.9"
  }
 },
 "nbformat": 4,
 "nbformat_minor": 5
}
