{
 "cells": [
  {
   "cell_type": "markdown",
   "id": "f15ff00a",
   "metadata": {},
   "source": [
    "13.1 Suppose you are an execution trader. A client calls you with an order to cover a\n",
    "short position she entered at a price of 100. She gives you two exit conditions:\n",
    "profit-taking at 90 and stop-loss at 105."
   ]
  },
  {
   "cell_type": "code",
   "execution_count": 1,
   "id": "dcd3109d",
   "metadata": {},
   "outputs": [],
   "source": [
    "from utils import get_dollar_bars\n",
    "import pandas as pd\n",
    "import numpy as np\n",
    "from itertools import product\n",
    "import yfinance as yf\n",
    "import statsmodels.api as sm\n",
    "from statsmodels.tsa.stattools import adfuller\n"
   ]
  },
  {
   "cell_type": "markdown",
   "id": "2bc6a993",
   "metadata": {},
   "source": [
    "(a) Assuming the client believes the price follows an O-U process, are these\n",
    "levels reasonable? For what parameters?  \n",
    "  \n",
    "(Forecast:110, holdtime:10)일때 resonalble하다"
   ]
  },
  {
   "cell_type": "code",
   "execution_count": 2,
   "id": "a0f5db95",
   "metadata": {},
   "outputs": [],
   "source": [
    "rule_pt=rule_sl=np.linspace(0, 20, 41)\n",
    "count=0\n",
    "forecast_diff=[10, 5, 0, -5, -10]\n",
    "tau=[5, 10,25, 50, 100]\n",
    "seed_price=100\n",
    "\n",
    "def get_trading_sharpe_by_ou_process(params, iter_cnt=1e3, max_hold_period=100, \n",
    "                                      seed_price=100, rule_pt=rule_pt, rule_sl=rule_sl):\n",
    "    phi=2**(-1/params['hold_time'])\n",
    "    ret=pd.DataFrame(index=rule_pt, columns=rule_sl, \n",
    "                     data=np.zeros((len(rule_pt), len(rule_sl))))\n",
    "    for pt, sl in product(rule_pt, rule_sl):\n",
    "        temp=[]\n",
    "        for _ in range(int(iter_cnt)):\n",
    "            cur_price=seed_price\n",
    "            for i in range(max_hold_period):\n",
    "                cur_price=(1-phi)*params['forecast']+phi*cur_price+ np.random.normal(0, params['sigma'])\n",
    "                price_diff=cur_price-seed_price\n",
    "                if price_diff >pt or price_diff < -sl or i==max_hold_period-1:\n",
    "                    temp.append(price_diff)\n",
    "                    break\n",
    "        mean_ret=np.mean(temp)\n",
    "        std_ret=np.std(temp)\n",
    "        sharpe=(mean_ret/std_ret) if std_ret != 0 else 0\n",
    "        ret.loc[pt, sl]=sharpe\n",
    "    return ret"
   ]
  },
  {
   "cell_type": "code",
   "execution_count": null,
   "id": "f39e2cca",
   "metadata": {},
   "outputs": [
    {
     "ename": "KeyboardInterrupt",
     "evalue": "",
     "output_type": "error",
     "traceback": [
      "\u001b[31m---------------------------------------------------------------------------\u001b[39m",
      "\u001b[31mKeyboardInterrupt\u001b[39m                         Traceback (most recent call last)",
      "\u001b[36mCell\u001b[39m\u001b[36m \u001b[39m\u001b[32mIn[12]\u001b[39m\u001b[32m, line 32\u001b[39m\n\u001b[32m     30\u001b[39m count+=\u001b[32m1\u001b[39m\n\u001b[32m     31\u001b[39m params={\u001b[33m'\u001b[39m\u001b[33mforecast\u001b[39m\u001b[33m'\u001b[39m: prod_[\u001b[32m0\u001b[39m]+seed_price,\u001b[33m'\u001b[39m\u001b[33mhold_time\u001b[39m\u001b[33m'\u001b[39m:prod_[\u001b[32m1\u001b[39m], \u001b[33m'\u001b[39m\u001b[33msigma\u001b[39m\u001b[33m'\u001b[39m:\u001b[32m1\u001b[39m}\n\u001b[32m---> \u001b[39m\u001b[32m32\u001b[39m output=\u001b[43mget_trading_sharpe_by_ou_process\u001b[49m\u001b[43m(\u001b[49m\u001b[43mparams\u001b[49m\u001b[43m)\u001b[49m\n\u001b[32m     33\u001b[39m plt.figure(figsize=(\u001b[32m10\u001b[39m, \u001b[32m6\u001b[39m))\n\u001b[32m     34\u001b[39m plt.title(\u001b[33mf\u001b[39m\u001b[33m'\u001b[39m\u001b[33mForecast: \u001b[39m\u001b[38;5;132;01m{\u001b[39;00mparams[\u001b[33m'\u001b[39m\u001b[33mforecast\u001b[39m\u001b[33m'\u001b[39m]\u001b[38;5;132;01m}\u001b[39;00m\u001b[33m | Hold Time: \u001b[39m\u001b[38;5;132;01m{\u001b[39;00mparams[\u001b[33m'\u001b[39m\u001b[33mhold_time\u001b[39m\u001b[33m'\u001b[39m]\u001b[38;5;132;01m}\u001b[39;00m\u001b[33m | Sigma: \u001b[39m\u001b[38;5;132;01m{\u001b[39;00mparams[\u001b[33m\"\u001b[39m\u001b[33msigma\u001b[39m\u001b[33m\"\u001b[39m]\u001b[38;5;132;01m}\u001b[39;00m\u001b[33m'\u001b[39m)\n",
      "\u001b[36mCell\u001b[39m\u001b[36m \u001b[39m\u001b[32mIn[12]\u001b[39m\u001b[32m, line 17\u001b[39m, in \u001b[36mget_trading_sharpe_by_ou_process\u001b[39m\u001b[34m(params, iter_cnt, max_hold_period, seed_price, rule_pt, rule_sl)\u001b[39m\n\u001b[32m     15\u001b[39m cur_price=seed_price\n\u001b[32m     16\u001b[39m \u001b[38;5;28;01mfor\u001b[39;00m i \u001b[38;5;129;01min\u001b[39;00m \u001b[38;5;28mrange\u001b[39m(max_hold_period):\n\u001b[32m---> \u001b[39m\u001b[32m17\u001b[39m     cur_price=(\u001b[32m1\u001b[39m-phi)*params[\u001b[33m'\u001b[39m\u001b[33mforecast\u001b[39m\u001b[33m'\u001b[39m]+phi*cur_price+ \u001b[43mnp\u001b[49m\u001b[43m.\u001b[49m\u001b[43mrandom\u001b[49m\u001b[43m.\u001b[49m\u001b[43mnormal\u001b[49m\u001b[43m(\u001b[49m\u001b[32;43m0\u001b[39;49m\u001b[43m,\u001b[49m\u001b[43m \u001b[49m\u001b[43mparams\u001b[49m\u001b[43m[\u001b[49m\u001b[33;43m'\u001b[39;49m\u001b[33;43msigma\u001b[39;49m\u001b[33;43m'\u001b[39;49m\u001b[43m]\u001b[49m\u001b[43m)\u001b[49m\n\u001b[32m     18\u001b[39m     price_diff=cur_price-seed_price\n\u001b[32m     19\u001b[39m     \u001b[38;5;28;01mif\u001b[39;00m price_diff >pt \u001b[38;5;129;01mor\u001b[39;00m price_diff < -sl \u001b[38;5;129;01mor\u001b[39;00m i==max_hold_period-\u001b[32m1\u001b[39m:\n",
      "\u001b[31mKeyboardInterrupt\u001b[39m: "
     ]
    }
   ],
   "source": [
    "\n",
    "import matplotlib.pyplot as plt\n",
    "for prod_ in product(forecast_diff, tau):\n",
    "    count+=1\n",
    "    params={'forecast': prod_[0]+seed_price,'hold_time':prod_[1], 'sigma':1}\n",
    "    output=get_trading_sharpe_by_ou_process(params)\n",
    "    plt.figure(figsize=(10, 6))\n",
    "    plt.title(f'Forecast: {params['forecast']} | Hold Time: {params['hold_time']} | Sigma: {params[\"sigma\"]}')\n",
    "    plt.pcolor(output, cmap='coolwarm', shading='auto')\n",
    "    plt.colorbar(label='Sharpe Ratio')\n",
    "    plt.xlabel('Stop Loss')\n",
    "    plt.ylabel('Profit Take')\n",
    "    plt.xticks(ticks=np.arange(len(rule_sl)), labels=rule_sl)\n",
    "    plt.yticks(ticks=np.arange(len(rule_pt)), labels=rule_pt)\n",
    "    plt.grid(False)\n",
    "    plt.legend()\n",
    "    plt.savefig(f'sharpe_ratio_{count}.png')\n",
    "    plt.close()\n",
    "    print(f'Processed {count} combinations of forecast and tau parameters.')\n",
    "\n"
   ]
  },
  {
   "cell_type": "markdown",
   "id": "f2b8ba3f",
   "metadata": {},
   "source": [
    "(b) Can you think of an alternative stochastic process under which these levels\n",
    "make sense?"
   ]
  },
  {
   "cell_type": "markdown",
   "id": "bee9fecc",
   "metadata": {},
   "source": [
    "13.2 Fit the timeseries of dollarbars of E-mini S&P500 futures to an O-U process.\n",
    "Given those parameters:\n",
    "\n",
    "\n",
    "(a) Produce a heat-map of Sharpe ratios for various profit-taking and stop-loss\n",
    "levels."
   ]
  },
  {
   "cell_type": "code",
   "execution_count": 3,
   "id": "4d1273e9",
   "metadata": {},
   "outputs": [
    {
     "ename": "KeyboardInterrupt",
     "evalue": "",
     "output_type": "error",
     "traceback": [
      "\u001b[31m---------------------------------------------------------------------------\u001b[39m",
      "\u001b[31mKeyboardInterrupt\u001b[39m                         Traceback (most recent call last)",
      "\u001b[36mCell\u001b[39m\u001b[36m \u001b[39m\u001b[32mIn[3]\u001b[39m\u001b[32m, line 6\u001b[39m\n\u001b[32m      4\u001b[39m \u001b[38;5;28;01mfor\u001b[39;00m dollar \u001b[38;5;129;01min\u001b[39;00m dollar_range:\n\u001b[32m      5\u001b[39m     dollar_bars=get_dollar_bars(min_df, dollar)\n\u001b[32m----> \u001b[39m\u001b[32m6\u001b[39m     results=\u001b[43madfuller\u001b[49m\u001b[43m(\u001b[49m\u001b[43mdollar_bars\u001b[49m\u001b[43m[\u001b[49m\u001b[33;43m'\u001b[39;49m\u001b[33;43mClose\u001b[39;49m\u001b[33;43m'\u001b[39;49m\u001b[43m]\u001b[49m\u001b[43m)\u001b[49m\n\u001b[32m      7\u001b[39m     \u001b[38;5;28;01mif\u001b[39;00m results[\u001b[32m1\u001b[39m] < \u001b[32m0.05\u001b[39m:\n\u001b[32m      8\u001b[39m         \u001b[38;5;28mprint\u001b[39m(\u001b[33mf\u001b[39m\u001b[33m\"\u001b[39m\u001b[33mDollar bar size \u001b[39m\u001b[38;5;132;01m{\u001b[39;00mdollar\u001b[38;5;132;01m}\u001b[39;00m\u001b[33m is stationary with p-value \u001b[39m\u001b[38;5;132;01m{\u001b[39;00mresults[\u001b[32m1\u001b[39m]\u001b[38;5;132;01m}\u001b[39;00m\u001b[33m\"\u001b[39m)\n",
      "\u001b[36mFile \u001b[39m\u001b[32m/opt/homebrew/anaconda3/envs/AFML/lib/python3.12/site-packages/statsmodels/tsa/stattools.py:326\u001b[39m, in \u001b[36madfuller\u001b[39m\u001b[34m(x, maxlag, regression, autolag, store, regresults)\u001b[39m\n\u001b[32m    320\u001b[39m \u001b[38;5;66;03m# 1 for level\u001b[39;00m\n\u001b[32m    321\u001b[39m \u001b[38;5;66;03m# search for lag length with smallest information criteria\u001b[39;00m\n\u001b[32m    322\u001b[39m \u001b[38;5;66;03m# Note: use the same number of observations to have comparable IC\u001b[39;00m\n\u001b[32m    323\u001b[39m \u001b[38;5;66;03m# aic and bic: smaller is better\u001b[39;00m\n\u001b[32m    325\u001b[39m \u001b[38;5;28;01mif\u001b[39;00m \u001b[38;5;129;01mnot\u001b[39;00m regresults:\n\u001b[32m--> \u001b[39m\u001b[32m326\u001b[39m     icbest, bestlag = \u001b[43m_autolag\u001b[49m\u001b[43m(\u001b[49m\n\u001b[32m    327\u001b[39m \u001b[43m        \u001b[49m\u001b[43mOLS\u001b[49m\u001b[43m,\u001b[49m\u001b[43m \u001b[49m\u001b[43mxdshort\u001b[49m\u001b[43m,\u001b[49m\u001b[43m \u001b[49m\u001b[43mfullRHS\u001b[49m\u001b[43m,\u001b[49m\u001b[43m \u001b[49m\u001b[43mstartlag\u001b[49m\u001b[43m,\u001b[49m\u001b[43m \u001b[49m\u001b[43mmaxlag\u001b[49m\u001b[43m,\u001b[49m\u001b[43m \u001b[49m\u001b[43mautolag\u001b[49m\n\u001b[32m    328\u001b[39m \u001b[43m    \u001b[49m\u001b[43m)\u001b[49m\n\u001b[32m    329\u001b[39m \u001b[38;5;28;01melse\u001b[39;00m:\n\u001b[32m    330\u001b[39m     icbest, bestlag, alres = _autolag(\n\u001b[32m    331\u001b[39m         OLS,\n\u001b[32m    332\u001b[39m         xdshort,\n\u001b[32m   (...)\u001b[39m\u001b[32m    337\u001b[39m         regresults=regresults,\n\u001b[32m    338\u001b[39m     )\n",
      "\u001b[36mFile \u001b[39m\u001b[32m/opt/homebrew/anaconda3/envs/AFML/lib/python3.12/site-packages/statsmodels/tsa/stattools.py:133\u001b[39m, in \u001b[36m_autolag\u001b[39m\u001b[34m(mod, endog, exog, startlag, maxlag, method, modargs, fitargs, regresults)\u001b[39m\n\u001b[32m    131\u001b[39m \u001b[38;5;28;01mfor\u001b[39;00m lag \u001b[38;5;129;01min\u001b[39;00m \u001b[38;5;28mrange\u001b[39m(startlag, startlag + maxlag + \u001b[32m1\u001b[39m):\n\u001b[32m    132\u001b[39m     mod_instance = mod(endog, exog[:, :lag], *modargs)\n\u001b[32m--> \u001b[39m\u001b[32m133\u001b[39m     results[lag] = \u001b[43mmod_instance\u001b[49m\u001b[43m.\u001b[49m\u001b[43mfit\u001b[49m\u001b[43m(\u001b[49m\u001b[43m)\u001b[49m\n\u001b[32m    135\u001b[39m \u001b[38;5;28;01mif\u001b[39;00m method == \u001b[33m\"\u001b[39m\u001b[33maic\u001b[39m\u001b[33m\"\u001b[39m:\n\u001b[32m    136\u001b[39m     icbest, bestlag = \u001b[38;5;28mmin\u001b[39m((v.aic, k) \u001b[38;5;28;01mfor\u001b[39;00m k, v \u001b[38;5;129;01min\u001b[39;00m results.items())\n",
      "\u001b[36mFile \u001b[39m\u001b[32m/opt/homebrew/anaconda3/envs/AFML/lib/python3.12/site-packages/statsmodels/regression/linear_model.py:333\u001b[39m, in \u001b[36mRegressionModel.fit\u001b[39m\u001b[34m(self, method, cov_type, cov_kwds, use_t, **kwargs)\u001b[39m\n\u001b[32m    328\u001b[39m \u001b[38;5;28;01mif\u001b[39;00m method == \u001b[33m\"\u001b[39m\u001b[33mpinv\u001b[39m\u001b[33m\"\u001b[39m:\n\u001b[32m    329\u001b[39m     \u001b[38;5;28;01mif\u001b[39;00m \u001b[38;5;129;01mnot\u001b[39;00m (\u001b[38;5;28mhasattr\u001b[39m(\u001b[38;5;28mself\u001b[39m, \u001b[33m'\u001b[39m\u001b[33mpinv_wexog\u001b[39m\u001b[33m'\u001b[39m) \u001b[38;5;129;01mand\u001b[39;00m\n\u001b[32m    330\u001b[39m             \u001b[38;5;28mhasattr\u001b[39m(\u001b[38;5;28mself\u001b[39m, \u001b[33m'\u001b[39m\u001b[33mnormalized_cov_params\u001b[39m\u001b[33m'\u001b[39m) \u001b[38;5;129;01mand\u001b[39;00m\n\u001b[32m    331\u001b[39m             \u001b[38;5;28mhasattr\u001b[39m(\u001b[38;5;28mself\u001b[39m, \u001b[33m'\u001b[39m\u001b[33mrank\u001b[39m\u001b[33m'\u001b[39m)):\n\u001b[32m--> \u001b[39m\u001b[32m333\u001b[39m         \u001b[38;5;28mself\u001b[39m.pinv_wexog, singular_values = \u001b[43mpinv_extended\u001b[49m\u001b[43m(\u001b[49m\u001b[38;5;28;43mself\u001b[39;49m\u001b[43m.\u001b[49m\u001b[43mwexog\u001b[49m\u001b[43m)\u001b[49m\n\u001b[32m    334\u001b[39m         \u001b[38;5;28mself\u001b[39m.normalized_cov_params = np.dot(\n\u001b[32m    335\u001b[39m             \u001b[38;5;28mself\u001b[39m.pinv_wexog, np.transpose(\u001b[38;5;28mself\u001b[39m.pinv_wexog))\n\u001b[32m    337\u001b[39m         \u001b[38;5;66;03m# Cache these singular values for use later.\u001b[39;00m\n",
      "\u001b[36mFile \u001b[39m\u001b[32m/opt/homebrew/anaconda3/envs/AFML/lib/python3.12/site-packages/statsmodels/tools/tools.py:274\u001b[39m, in \u001b[36mpinv_extended\u001b[39m\u001b[34m(x, rcond)\u001b[39m\n\u001b[32m    272\u001b[39m     \u001b[38;5;28;01melse\u001b[39;00m:\n\u001b[32m    273\u001b[39m         s[i] = \u001b[32m0.\u001b[39m\n\u001b[32m--> \u001b[39m\u001b[32m274\u001b[39m res = np.dot(np.transpose(vt), \u001b[43mnp\u001b[49m\u001b[43m.\u001b[49m\u001b[43mmultiply\u001b[49m\u001b[43m(\u001b[49m\u001b[43ms\u001b[49m\u001b[43m[\u001b[49m\u001b[43m:\u001b[49m\u001b[43m,\u001b[49m\u001b[43m \u001b[49m\u001b[43mnp\u001b[49m\u001b[43m.\u001b[49m\u001b[43mnewaxis\u001b[49m\u001b[43m]\u001b[49m\u001b[43m,\u001b[49m\n\u001b[32m    275\u001b[39m \u001b[43m                                           \u001b[49m\u001b[43mnp\u001b[49m\u001b[43m.\u001b[49m\u001b[43mtranspose\u001b[49m\u001b[43m(\u001b[49m\u001b[43mu\u001b[49m\u001b[43m)\u001b[49m\u001b[43m)\u001b[49m)\n\u001b[32m    276\u001b[39m \u001b[38;5;28;01mreturn\u001b[39;00m res, s_orig\n",
      "\u001b[31mKeyboardInterrupt\u001b[39m: "
     ]
    }
   ],
   "source": [
    "min_df=pd.read_csv(\"GSPC.INDX_1m.csv\", index_col=0, parse_dates=True)\n",
    "min_df=min_df[min_df.index>=\"2024-01-01\"]\n",
    "dollar_range=[2**i for i in range(20, 30, 1)]\n",
    "for dollar in dollar_range:\n",
    "    dollar_bars=get_dollar_bars(min_df, dollar)\n",
    "    results=adfuller(dollar_bars['Close'])\n",
    "    if results[1] < 0.05:\n",
    "        print(f\"Dollar bar size {dollar} is stationary with p-value {results[1]}\")\n",
    "        break"
   ]
  },
  {
   "cell_type": "code",
   "execution_count": null,
   "id": "1629852f",
   "metadata": {},
   "outputs": [
    {
     "name": "stdout",
     "output_type": "stream",
     "text": [
      "Estimated OU parameters: {'mean': np.float64(5641.57800639247), 'phi': np.float64(0.9990923072933735), 'sigma': np.float64(10.632730380621398)}\n"
     ]
    },
    {
     "name": "stderr",
     "output_type": "stream",
     "text": [
      "/var/folders/4t/tqsscz0s6wn8sp8kh0264n680000gn/T/ipykernel_94533/2598922260.py:32: UserWarning: No artists with labels found to put in legend.  Note that artists whose label start with an underscore are ignored when legend() is called with no argument.\n",
      "  plt.legend()\n"
     ]
    },
    {
     "data": {
      "image/png": "[encoded data removed]",
      "text/plain": [
       "<Figure size 1000x600 with 2 Axes>"
      ]
     },
     "metadata": {},
     "output_type": "display_data"
    },
    {
     "ename": "",
     "evalue": "",
     "output_type": "error",
     "traceback": [
      "\u001b[1;31mnotebook controller is DISPOSED. \n",
      "\u001b[1;31m자세한 내용은 Jupyter <a href='command:jupyter.viewOutput'>로그</a>를 참조하세요."
     ]
    },
    {
     "ename": "",
     "evalue": "",
     "output_type": "error",
     "traceback": [
      "\u001b[1;31mnotebook controller is DISPOSED. \n",
      "\u001b[1;31m자세한 내용은 Jupyter <a href='command:jupyter.viewOutput'>로그</a>를 참조하세요."
     ]
    },
    {
     "ename": "",
     "evalue": "",
     "output_type": "error",
     "traceback": [
      "\u001b[1;31mnotebook controller is DISPOSED. \n",
      "\u001b[1;31m자세한 내용은 Jupyter <a href='command:jupyter.viewOutput'>로그</a>를 참조하세요."
     ]
    }
   ],
   "source": [
    "def get_ou_params(close:pd.Series):\n",
    "    Y=close[1:].values\n",
    "    X=close[:-1].values\n",
    "    X=sm.add_constant(X)\n",
    "    model=sm.OLS(Y, X).fit()\n",
    "\n",
    "    alpha, phi=model.params\n",
    "    residual_std=model.resid.std()\n",
    "    return {'mean':alpha/(1-phi), 'phi': phi, 'sigma': residual_std}\n",
    "\n",
    "ou_params=get_ou_params(dollar_bars['Close'])\n",
    "seed_price=dollar_bars['Close'].iloc[0]\n",
    "print(f\"Estimated OU parameters: {ou_params}\")\n",
    "\n",
    "tau=-1/(np.log2(ou_params['phi']))\n",
    "params={'forecast':ou_params['mean'], 'hold_time':tau, 'sigma':ou_params['sigma']}\n",
    "\n",
    "rule_pt=rule_sl=np.linspace(0, 10, 21)\n",
    "output=get_trading_sharpe_by_ou_process(params, iter_cnt=1e5, max_hold_period=100, \n",
    "                                          seed_price=seed_price, rule_pt=rule_pt, rule_sl=rule_sl)\n",
    "plt.figure(figsize=(10, 6))\n",
    "plt.title(f'Estimated OU Process | Forecast: {params[\"forecast\"]} | Tau: {params[\"hold_time\"]} | Sigma: {params[\"sigma\"]}')\n",
    "plt.pcolor(output, cmap='coolwarm', shading='auto')\n",
    "plt.colorbar(label='Sharpe Ratio')\n",
    "plt.xlabel('Stop Loss')\n",
    "plt.ylabel('Profit Take')\n",
    "plt.xticks(ticks=np.arange(len(rule_sl)), labels=rule_sl)\n",
    "plt.yticks(ticks=np.arange(len(rule_pt)), labels=rule_pt)\n",
    "plt.grid(False)\n",
    "plt.legend()\n",
    "plt.show()\n",
    "\n"
   ]
  },
  {
   "cell_type": "markdown",
   "id": "01853435",
   "metadata": {},
   "source": [
    "(b) What is the OTR?\n",
    "\n",
    "손절이나 익절 폭을 매우 크게 두고 들고 있는것이 가장 나은 trading 방법이다."
   ]
  },
  {
   "cell_type": "markdown",
   "id": "df8aaff0",
   "metadata": {},
   "source": [
    "13.3 Repeat exercise 2, this time on a timeseries of dollar bars of   \n",
    "(a) 10-year U.S. Treasure Notes futures"
   ]
  },
  {
   "cell_type": "code",
   "execution_count": null,
   "id": "2a3df8fb",
   "metadata": {},
   "outputs": [
    {
     "ename": "",
     "evalue": "",
     "output_type": "error",
     "traceback": [
      "\u001b[1;31mnotebook controller is DISPOSED. \n",
      "\u001b[1;31m자세한 내용은 Jupyter <a href='command:jupyter.viewOutput'>로그</a>를 참조하세요."
     ]
    }
   ],
   "source": [
    "import yfinance as yf\n",
    "from curl_cffi import requests as req\n",
    "\n",
    "session=req.Session(impersonate=\"chrome\")\n",
    "\n",
    "treasure=yf.Ticker(\"ZN=F\", session=session)\n",
    "treasure_data=treasure.history(period=\"max\", interval=\"1m\")"
   ]
  },
  {
   "cell_type": "code",
   "execution_count": null,
   "id": "ffb91e06",
   "metadata": {},
   "outputs": [
    {
     "name": "stdout",
     "output_type": "stream",
     "text": [
      "p-value: 0.43185381431766773\n",
      "p-value: 0.399061503900091\n",
      "p-value: 0.4556510603787791\n",
      "p-value: 0.44348719798903485\n",
      "p-value: 0.48634667853988006\n",
      "p-value: 0.48289945770601894\n",
      "p-value: 0.4755726758579894\n",
      "p-value: 0.45998412261701666\n",
      "p-value: 0.46688041008417064\n",
      "p-value: 0.42416844027042505\n",
      "p-value: 0.4675875925618787\n",
      "p-value: 8.435743262666328e-16\n",
      "Series is stationary for dollar=67108864\n"
     ]
    },
    {
     "ename": "",
     "evalue": "",
     "output_type": "error",
     "traceback": [
      "\u001b[1;31mnotebook controller is DISPOSED. \n",
      "\u001b[1;31m자세한 내용은 Jupyter <a href='command:jupyter.viewOutput'>로그</a>를 참조하세요."
     ]
    }
   ],
   "source": [
    "from statsmodels.tsa.stattools import adfuller\n",
    "dollar_m=100000\n",
    "dollar_range=[2**i for i in range(15, 30, 1)]\n",
    "for dollar in dollar_range:\n",
    "    treasure_dollar_bars=get_dollar_bars(treasure_data, dollar)\n",
    "    results=adfuller(treasure_dollar_bars['Close'])\n",
    "    print('p-value:', results[1])\n",
    "    if results[1]<0.05:\n",
    "        print(f\"Series is stationary for dollar={dollar}\")\n",
    "        break"
   ]
  },
  {
   "cell_type": "code",
   "execution_count": 9,
   "id": "3e37028f",
   "metadata": {},
   "outputs": [
    {
     "name": "stdout",
     "output_type": "stream",
     "text": [
      "Estimated OU parameters: {'mean': np.float64(109.90323810556949), 'phi': np.float64(0.8335994971203355), 'sigma': np.float64(0.13751477658174885)}\n"
     ]
    },
    {
     "ename": "NameError",
     "evalue": "name 'get_trading_sharpe_by_ou_process' is not defined",
     "output_type": "error",
     "traceback": [
      "\u001b[31m---------------------------------------------------------------------------\u001b[39m",
      "\u001b[31mNameError\u001b[39m                                 Traceback (most recent call last)",
      "\u001b[36mCell\u001b[39m\u001b[36m \u001b[39m\u001b[32mIn[11]\u001b[39m\u001b[32m, line 19\u001b[39m\n\u001b[32m     16\u001b[39m params={\u001b[33m'\u001b[39m\u001b[33mforecast\u001b[39m\u001b[33m'\u001b[39m:ou_params[\u001b[33m'\u001b[39m\u001b[33mmean\u001b[39m\u001b[33m'\u001b[39m], \u001b[33m'\u001b[39m\u001b[33mhold_time\u001b[39m\u001b[33m'\u001b[39m:tau, \u001b[33m'\u001b[39m\u001b[33msigma\u001b[39m\u001b[33m'\u001b[39m:ou_params[\u001b[33m'\u001b[39m\u001b[33msigma\u001b[39m\u001b[33m'\u001b[39m]}\n\u001b[32m     18\u001b[39m rule_pt=rule_sl=np.linspace(\u001b[32m0\u001b[39m, \u001b[32m10\u001b[39m, \u001b[32m21\u001b[39m)\n\u001b[32m---> \u001b[39m\u001b[32m19\u001b[39m output=\u001b[43mget_trading_sharpe_by_ou_process\u001b[49m(params, iter_cnt=\u001b[32m1e5\u001b[39m, max_hold_period=\u001b[32m100\u001b[39m, \n\u001b[32m     20\u001b[39m                                           seed_price=seed_price, rule_pt=rule_pt, rule_sl=rule_sl)\n\u001b[32m     21\u001b[39m plt.figure(figsize=(\u001b[32m10\u001b[39m, \u001b[32m6\u001b[39m))\n\u001b[32m     22\u001b[39m plt.title(\u001b[33mf\u001b[39m\u001b[33m'\u001b[39m\u001b[33mEstimated OU Process | Forecast: \u001b[39m\u001b[38;5;132;01m{\u001b[39;00mparams[\u001b[33m\"\u001b[39m\u001b[33mforecast\u001b[39m\u001b[33m\"\u001b[39m]\u001b[38;5;132;01m}\u001b[39;00m\u001b[33m | Tau: \u001b[39m\u001b[38;5;132;01m{\u001b[39;00mparams[\u001b[33m\"\u001b[39m\u001b[33mhold_time\u001b[39m\u001b[33m\"\u001b[39m]\u001b[38;5;132;01m}\u001b[39;00m\u001b[33m | Sigma: \u001b[39m\u001b[38;5;132;01m{\u001b[39;00mparams[\u001b[33m\"\u001b[39m\u001b[33msigma\u001b[39m\u001b[33m\"\u001b[39m]\u001b[38;5;132;01m}\u001b[39;00m\u001b[33m'\u001b[39m)\n",
      "\u001b[31mNameError\u001b[39m: name 'get_trading_sharpe_by_ou_process' is not defined"
     ]
    }
   ],
   "source": [
    "def get_ou_params(close:pd.Series):\n",
    "    Y=close[1:].values\n",
    "    X=close[:-1].values\n",
    "    X=sm.add_constant(X)\n",
    "    model=sm.OLS(Y, X).fit()\n",
    "\n",
    "    alpha, phi=model.params\n",
    "    residual_std=model.resid.std()\n",
    "    return {'mean':alpha/(1-phi), 'phi': phi, 'sigma': residual_std}\n",
    "\n",
    "ou_params=get_ou_params(treasure_dollar_bars['Close'])\n",
    "seed_price=treasure_dollar_bars['Close'].iloc[0]\n",
    "print(f\"Estimated OU parameters: {ou_params}\")\n",
    "\n",
    "tau=-1/(np.log2(ou_params['phi']))\n",
    "params={'forecast':ou_params['mean'], 'hold_time':tau, 'sigma':ou_params['sigma']}\n",
    "\n",
    "rule_pt=rule_sl=np.linspace(0, 10, 21)\n",
    "output=get_trading_sharpe_by_ou_process(params, iter_cnt=1e5, max_hold_period=100, \n",
    "                                          seed_price=seed_price, rule_pt=rule_pt, rule_sl=rule_sl)\n",
    "plt.figure(figsize=(10, 6))\n",
    "plt.title(f'Estimated OU Process | Forecast: {params[\"forecast\"]} | Tau: {params[\"hold_time\"]} | Sigma: {params[\"sigma\"]}')\n",
    "plt.pcolor(output, cmap='coolwarm', shading='auto')\n",
    "plt.colorbar(label='Sharpe Ratio')\n",
    "plt.xlabel('Stop Loss')\n",
    "plt.ylabel('Profit Take')\n",
    "plt.xticks(ticks=np.arange(len(rule_sl)), labels=rule_sl)\n",
    "plt.yticks(ticks=np.arange(len(rule_pt)), labels=rule_pt)\n",
    "plt.grid(False)\n",
    "plt.legend()\n",
    "plt.show()"
   ]
  },
  {
   "cell_type": "markdown",
   "id": "fc98e6af",
   "metadata": {},
   "source": [
    "(b) WTI Crude Oil futures"
   ]
  },
  {
   "cell_type": "code",
   "execution_count": null,
   "id": "7d4aad91",
   "metadata": {},
   "outputs": [
    {
     "ename": "",
     "evalue": "",
     "output_type": "error",
     "traceback": [
      "\u001b[1;31mnotebook controller is DISPOSED. \n",
      "\u001b[1;31m자세한 내용은 Jupyter <a href='command:jupyter.viewOutput'>로그</a>를 참조하세요."
     ]
    },
    {
     "ename": "",
     "evalue": "",
     "output_type": "error",
     "traceback": [
      "\u001b[1;31mnotebook controller is DISPOSED. \n",
      "\u001b[1;31m자세한 내용은 Jupyter <a href='command:jupyter.viewOutput'>로그</a>를 참조하세요."
     ]
    }
   ],
   "source": [
    "wti=yf.Ticker(\"CL=F\", session=session)\n",
    "wti_data=wti.history(period=\"max\", interval=\"1m\")\n",
    "dollar_range=[2**i for i in range(15, 30, 1)]\n",
    "for dollar in dollar_range:\n",
    "    wti_dollar_bars=get_dollar_bars(wti_data, dollar)\n",
    "    results=adfuller(wti_dollar_bars['Close'])\n",
    "    print('p-value:', results[1])\n",
    "    if results[1]<0.05:\n",
    "        print(f\"Series is stationary for dollar={dollar}\")\n",
    "        break"
   ]
  },
  {
   "cell_type": "code",
   "execution_count": null,
   "id": "795bf43c",
   "metadata": {},
   "outputs": [
    {
     "ename": "",
     "evalue": "",
     "output_type": "error",
     "traceback": [
      "\u001b[1;31mnotebook controller is DISPOSED. \n",
      "\u001b[1;31m자세한 내용은 Jupyter <a href='command:jupyter.viewOutput'>로그</a>를 참조하세요."
     ]
    }
   ],
   "source": [
    "ou_params=get_ou_params(wti_dollar_bars['Close'])\n",
    "seed_price=wti_dollar_bars['Close'].iloc[0]\n",
    "print(f\"Estimated OU parameters: {ou_params}\")\n",
    "\n",
    "tau=-1/(np.log2(ou_params['phi']))\n",
    "params={'forecast':ou_params['mean'], 'hold_time':tau, 'sigma':ou_params['sigma']}\n",
    "\n",
    "rule_pt=rule_sl=np.linspace(0, 10, 21)\n",
    "output=get_trading_sharpe_by_ou_process(params, iter_cnt=1e5, max_hold_period=100, \n",
    "                                          seed_price=seed_price, rule_pt=rule_pt, rule_sl=rule_sl)\n",
    "plt.figure(figsize=(10, 6))\n",
    "plt.title(f'Estimated OU Process | Forecast: {params[\"forecast\"]} | Tau: {params[\"hold_time\"]} | Sigma: {params[\"sigma\"]}')\n",
    "plt.pcolor(output, cmap='coolwarm', shading='auto')\n",
    "plt.colorbar(label='Sharpe Ratio')\n",
    "plt.xlabel('Stop Loss')\n",
    "plt.ylabel('Profit Take')\n",
    "plt.xticks(ticks=np.arange(len(rule_sl)), labels=rule_sl)\n",
    "plt.yticks(ticks=np.arange(len(rule_pt)), labels=rule_pt)\n",
    "plt.grid(False)\n",
    "plt.legend()\n",
    "plt.show()"
   ]
  },
  {
   "cell_type": "markdown",
   "id": "91f9c706",
   "metadata": {},
   "source": [
    "(c) Are the results significantly different? Does this justify having execution\n",
    "traders specialized by product?"
   ]
  },
  {
   "cell_type": "code",
   "execution_count": null,
   "id": "177f547a",
   "metadata": {},
   "outputs": [],
   "source": []
  }
 ],
 "metadata": {
  "kernelspec": {
   "display_name": "AFML",
   "language": "python",
   "name": "python3"
  },
  "language_info": {
   "codemirror_mode": {
    "name": "ipython",
    "version": 3
   },
   "file_extension": ".py",
   "mimetype": "text/x-python",
   "name": "python",
   "nbconvert_exporter": "python",
   "pygments_lexer": "ipython3",
   "version": "3.12.9"
  }
 },
 "nbformat": 4,
 "nbformat_minor": 5
}
