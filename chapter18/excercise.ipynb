{
 "cells": [
  {
   "cell_type": "markdown",
   "id": "324a3c70",
   "metadata": {},
   "source": [
    "18.1 Form dollar bars on E-mini S&P 500 futures:"
   ]
  },
  {
   "cell_type": "code",
   "execution_count": 1,
   "id": "86d7d2c6",
   "metadata": {},
   "outputs": [
    {
     "name": "stdout",
     "output_type": "stream",
     "text": [
      "ADF Statistic: -0.39640374830706887\n",
      "p-value: 0.9106974932570443\n"
     ]
    }
   ],
   "source": [
    "import pandas as pd\n",
    "import numpy as np\n",
    "import sqlite3\n",
    "\n",
    "con=sqlite3.connect('../db/sp.db')\n",
    "query=\"\"\"SELECT * FROM sp WHERE \"index\" BETWEEN '2006-01-01' AND '2009-01-01'\"\"\"\n",
    "df=pd.read_sql_query(query, con)\n",
    "con.close()\n",
    "df['index']=pd.to_datetime(df['index'])\n",
    "df.set_index('index', inplace=True)\n",
    "df.sort_index(inplace=True)\n",
    "df['Close']=df['Close'].astype(float)\n",
    "df['Volume']=df['Volume'].astype(float)\n",
    "\n",
    "def get_dollar_bar(df:pd.DataFrame, threshold:float)->pd.DataFrame:\n",
    "    df['dollar']= df['Close'] * df['Volume']\n",
    "    start_idx=0\n",
    "    current_dollar_sum = 0.0\n",
    "    dollar_bar = []\n",
    "    for i in range(len(df)):\n",
    "        if current_dollar_sum + df['dollar'].iloc[i] >= threshold:\n",
    "            bar={\n",
    "                'Close': df['Close'].iloc[i],\n",
    "                'Volume': df['Volume'].iloc[start_idx:i+1].sum(),\n",
    "            }\n",
    "            dollar_bar.append((df.index[i], bar))\n",
    "            current_dollar_sum = 0.0\n",
    "            start_idx = i + 1\n",
    "        else:\n",
    "            current_dollar_sum += df['dollar'].iloc[i]\n",
    "    if current_dollar_sum > 0:\n",
    "        bar = {\n",
    "            'Close': df['Close'].iloc[-1],\n",
    "            'Volume': df['Volume'].iloc[start_idx:].sum(),\n",
    "        }\n",
    "        dollar_bar.append((df.index[-1], bar))\n",
    "    bar_df=pd.DataFrame.from_dict(dict(dollar_bar), orient='index')\n",
    "    bar_df.index.name = 'index'\n",
    "    return bar_df\n",
    "\n",
    "total_trading_days=len(np.unique(df.index.date))\n",
    "total_dollar=(df['Close']*df['Volume']).sum()\n",
    "desired_bar_per_day=100\n",
    "threshold=total_dollar / (total_trading_days * desired_bar_per_day)\n",
    "dollar_bar_df=get_dollar_bar(df, threshold)\n",
    "from statsmodels.tsa.stattools import adfuller\n",
    "results = adfuller(dollar_bar_df['Close'])\n",
    "print(f'ADF Statistic: {results[0]}')\n",
    "print(f'p-value: {results[1]}')"
   ]
  },
  {
   "cell_type": "markdown",
   "id": "19b4816d",
   "metadata": {},
   "source": [
    "(a) Quantize the returns series using binary Method"
   ]
  },
  {
   "cell_type": "code",
   "execution_count": 2,
   "id": "7c0dc682",
   "metadata": {},
   "outputs": [
    {
     "name": "stdout",
     "output_type": "stream",
     "text": [
      "index\n",
      "2006-01-02 17:05:10    1\n",
      "2006-01-02 17:10:57    0\n",
      "2006-01-02 17:19:28    0\n",
      "2006-01-02 17:37:24    1\n",
      "2006-01-02 18:15:12    1\n",
      "Name: Close, dtype: int64\n",
      "Close\n",
      "1    36851\n",
      "0    36432\n",
      "Name: count, dtype: int64\n"
     ]
    }
   ],
   "source": [
    "returns= dollar_bar_df['Close'].pct_change().dropna()\n",
    "binary_encoding=returns[returns!=0]\n",
    "binary_encoding = (binary_encoding > 0).astype(int)\n",
    "print(binary_encoding.head())\n",
    "print(binary_encoding.value_counts())"
   ]
  },
  {
   "cell_type": "markdown",
   "id": "4136bc6a",
   "metadata": {},
   "source": [
    "(b) Quantize the returns series using the quantile encoding, using 10 letters "
   ]
  },
  {
   "cell_type": "code",
   "execution_count": 3,
   "id": "dcb32673",
   "metadata": {},
   "outputs": [
    {
     "name": "stdout",
     "output_type": "stream",
     "text": [
      "index\n",
      "2006-01-02 17:05:10    0.61\n",
      "2006-01-02 17:10:57    0.30\n",
      "2006-01-02 17:19:28    0.17\n",
      "2006-01-02 17:37:24    0.92\n",
      "2006-01-02 18:15:12    0.68\n",
      "Name: Close, dtype: float64\n",
      "Close\n",
      " 0.550000    9731\n",
      " 0.990000    6594\n",
      " 0.590000     829\n",
      " 0.290000     827\n",
      " 0.620000     827\n",
      "             ... \n",
      "-0.004394       1\n",
      "-0.012380       1\n",
      "-0.007268       1\n",
      "-0.006075       1\n",
      "-0.005491       1\n",
      "Name: count, Length: 902, dtype: int64\n"
     ]
    }
   ],
   "source": [
    "sorted_return=returns.sort_values()\n",
    "\n",
    "def get_fast_quantile(sorted_series: pd.Series, quantile: float) -> float:\n",
    "    n = len(sorted_series)\n",
    "    index=quantile * (n - 1)\n",
    "    lower_index = int(np.floor(index))\n",
    "    upper_index = int(np.ceil(index))\n",
    "    weight = index - lower_index\n",
    "    return (1-weight) * sorted_series.iloc[lower_index] + weight * sorted_series.iloc[upper_index]\n",
    "\n",
    "quantiles=np.arange(0.01, 1.01, 0.01)\n",
    "quantile_values = [get_fast_quantile(sorted_return, q) for q in quantiles]    \n",
    "for i in range(1, len(quantiles)):\n",
    "    sorted_return[(sorted_return >= quantile_values[i-1]) & (sorted_return < quantile_values[i])] = quantiles[i-1]\n",
    "\n",
    "quantile_encoding = sorted_return.sort_index()\n",
    "print(quantile_encoding.head())\n",
    "print(quantile_encoding.value_counts())"
   ]
  },
  {
   "cell_type": "markdown",
   "id": "faaf5f80",
   "metadata": {},
   "source": [
    "(c) Quantize the returns series using the sigma encoding, where $\\sigma$ is the standard deviation of all bar returns"
   ]
  },
  {
   "cell_type": "code",
   "execution_count": 4,
   "id": "cd92d285",
   "metadata": {},
   "outputs": [
    {
     "name": "stdout",
     "output_type": "stream",
     "text": [
      "index\n",
      "2006-01-02 17:05:10    52.0\n",
      "2006-01-02 17:10:57    52.0\n",
      "2006-01-02 17:19:28    52.0\n",
      "2006-01-02 17:37:24    53.0\n",
      "2006-01-02 18:15:12    52.0\n",
      "dtype: float64\n",
      "52.0    64839\n",
      "53.0    12274\n",
      "51.0     2620\n",
      "54.0      981\n",
      "50.0      555\n",
      "        ...  \n",
      "12.0        1\n",
      "34.0        1\n",
      "32.0        1\n",
      "87.0        1\n",
      "74.0        1\n",
      "Name: count, Length: 65, dtype: int64\n"
     ]
    }
   ],
   "source": [
    "sigma = np.std(returns)\n",
    "min_return = returns.min()\n",
    "max_return = returns.max()\n",
    "encoding_val=0\n",
    "sigma_encoding=pd.Series(np.nan, index=returns.index, dtype=float)\n",
    "while max_return > min_return+(encoding_val+1)*sigma:\n",
    "    sigma_encoding[(returns >= min_return + encoding_val * sigma) & (returns < min_return + (encoding_val + 1) * sigma)] = encoding_val\n",
    "    encoding_val += 1\n",
    "sigma_encoding[returns >= min_return + encoding_val * sigma] = encoding_val\n",
    "\n",
    "print(sigma_encoding.head())\n",
    "print(sigma_encoding.value_counts())"
   ]
  },
  {
   "cell_type": "markdown",
   "id": "dec28acb",
   "metadata": {},
   "source": [
    "(d) Compute the entropy of the three encoded series, using the plug-in method."
   ]
  },
  {
   "cell_type": "code",
   "execution_count": 5,
   "id": "c13fc1c4",
   "metadata": {},
   "outputs": [
    {
     "name": "stdout",
     "output_type": "stream",
     "text": [
      "Binary Encoding Entropy: 0.016141368763910938\n",
      "Quantile Encoding Entropy: 0.018755650444737218\n",
      "Sigma Encoding Entropy: 0.01832663575724335\n"
     ]
    }
   ],
   "source": [
    "def get_plug_in_entropy(series: pd.Series, window_length:int = 100) -> float:\n",
    "    def get_probabilities(series: pd.Series, window_length:int=100) -> dict:\n",
    "        probabilities = {}\n",
    "        if not isinstance(series, str):\n",
    "            series=''.join(series.astype(str))\n",
    "        for i in range(window_length, len(series)):\n",
    "            cur_window = series[i-window_length:i]\n",
    "            if probabilities.get(cur_window) is None:\n",
    "                probabilities[cur_window] = [i-window_length]\n",
    "            else:\n",
    "                probabilities[cur_window].append(i-window_length)\n",
    "        ret=[]\n",
    "        for i, (k, v) in enumerate(probabilities.items()):\n",
    "            ret.append(len(v) / (len(series)-window_length))\n",
    "        return ret\n",
    "    probabilities = get_probabilities(series, window_length)\n",
    "    entropy=-sum([p*np.log2(p) for p in probabilities])/window_length\n",
    "    return entropy\n",
    "\n",
    "binary_entropy = get_plug_in_entropy(binary_encoding, window_length=1000)\n",
    "quantile_entropy = get_plug_in_entropy(quantile_encoding, window_length=1000)\n",
    "sigma_entropy = get_plug_in_entropy(sigma_encoding, window_length=1000)\n",
    "print(f'Binary Encoding Entropy: {binary_entropy}')\n",
    "print(f'Quantile Encoding Entropy: {quantile_entropy}')\n",
    "print(f'Sigma Encoding Entropy: {sigma_entropy}')\n",
    "        "
   ]
  },
  {
   "cell_type": "markdown",
   "id": "94390674",
   "metadata": {},
   "source": [
    "(e) Compute the entropy of the three encoded series, using Kontoyiannis's method, with a window size of 100."
   ]
  },
  {
   "cell_type": "code",
   "execution_count": 6,
   "id": "a552089f",
   "metadata": {},
   "outputs": [
    {
     "name": "stdout",
     "output_type": "stream",
     "text": [
      "Binary Encoding Konto Entropy: 1.0146345752052923\n",
      "Quantile Encoding Konto Entropy: 2.1734791291774815\n",
      "Sigma Encoding Konto Entropy: 0.4749401632821323\n"
     ]
    }
   ],
   "source": [
    "def get_konto_entropy(series: pd.Series, window_length:int = None) -> float:\n",
    "    if not isinstance(series, str):\n",
    "        series = ''.join(series.astype(str))\n",
    "\n",
    "    if window_length is None: # Expanding window method\n",
    "        points=np.arange(1, len(series)//2+1)\n",
    "    else: # sldiding window method\n",
    "        window_length = min(window_length, len(series)//2)\n",
    "        points= np.arange(window_length, len(series)-window_length)\n",
    "\n",
    "    def get_max_match_length(msg:str, i:int, window_length:int) -> int:\n",
    "        # Find the maximum length of a substring that matches with any previous substring\n",
    "        if i < window_length:\n",
    "            return 0\n",
    "        \n",
    "        max_length = 0\n",
    "        for w in range(window_length):\n",
    "            cur_msg=msg[i:i+w+1]\n",
    "            for j in range(i-window_length, i):\n",
    "                compare_msg = msg[j:j+w+1]\n",
    "                if cur_msg == compare_msg:\n",
    "                    max_length = w\n",
    "                    break\n",
    "        return max_length    \n",
    "    \n",
    "    entropy=0\n",
    "    for i in points:\n",
    "        if window_length is None:\n",
    "            max_match_length = get_max_match_length(series, i, i)\n",
    "            entropy+=np.log2(i)/(1+max_match_length)\n",
    "        else:\n",
    "            max_match_length = get_max_match_length(series, i, window_length)\n",
    "            entropy+=np.log2(window_length)/(1+max_match_length)\n",
    "    return entropy / len(points)\n",
    "\n",
    "binary_konto_entropy = get_konto_entropy(binary_encoding, window_length=100)\n",
    "quantile_konto_entropy = get_konto_entropy(quantile_encoding, window_length=100)\n",
    "sigma_konto_entropy = get_konto_entropy(sigma_encoding, window_length=100)\n",
    "print(f'Binary Encoding Konto Entropy: {binary_konto_entropy}')\n",
    "print(f'Quantile Encoding Konto Entropy: {quantile_konto_entropy}')\n",
    "print(f'Sigma Encoding Konto Entropy: {sigma_konto_entropy}')\n",
    "\n",
    "   \n",
    "    "
   ]
  },
  {
   "cell_type": "markdown",
   "id": "787a88e0",
   "metadata": {},
   "source": [
    "18.2 Using the bars from exercise 1:"
   ]
  },
  {
   "cell_type": "markdown",
   "id": "68d64fc5",
   "metadata": {},
   "source": [
    "(a) Compute the returns series, $\\{r_t\\}$."
   ]
  },
  {
   "cell_type": "markdown",
   "id": "a81925bf",
   "metadata": {},
   "source": [
    "(b) Encode the series as follows $e_t=\\begin{cases}0\\ if\\ r_tr_{t-1}<0 \\\\ 1\\ if\\ r_tr_{t-1} \\ge 0\\end{cases}$"
   ]
  },
  {
   "cell_type": "code",
   "execution_count": 15,
   "id": "26a42777",
   "metadata": {},
   "outputs": [],
   "source": [
    "encoder=(returns*returns.shift(1)).dropna().apply(lambda x: 1 if x >= 0 else 0)\n"
   ]
  },
  {
   "cell_type": "markdown",
   "id": "4c4a3287",
   "metadata": {},
   "source": [
    "(c) Partition the series into 1000 non-overlapping subsets of equal size (you may have to drop some observations at the beginning.)"
   ]
  },
  {
   "cell_type": "code",
   "execution_count": 16,
   "id": "4f6dba0e",
   "metadata": {},
   "outputs": [],
   "source": [
    "div_size=100\n",
    "encoder_length = len(encoder)\n",
    "drop_length=encoder_length%div_size\n",
    "encoder = encoder.iloc[:-drop_length] if drop_length > 0 else encoder\n",
    "encoder = encoder.values.reshape(-1, div_size)\n",
    "encoder = pd.DataFrame(encoder, columns=[f'col_{i}' for i in range(encoder.shape[1])])\n"
   ]
  },
  {
   "cell_type": "markdown",
   "id": "7cf9b571",
   "metadata": {},
   "source": [
    "(d) Compute the entropy of each of the 1000 encoded subsets,using the plug-\n",
    "in method."
   ]
  },
  {
   "cell_type": "code",
   "execution_count": 19,
   "id": "fc17e013",
   "metadata": {},
   "outputs": [
    {
     "data": {
      "image/png": "[encoded data removed]",
      "text/plain": [
       "<Figure size 1000x500 with 1 Axes>"
      ]
     },
     "metadata": {},
     "output_type": "display_data"
    }
   ],
   "source": [
    "plug_in_entropy_values = []\n",
    "for col in encoder.columns:\n",
    "    encoder[col] = encoder[col].astype(int)\n",
    "    entropy= get_plug_in_entropy(encoder[col], window_length=encoder.shape[0]//100)\n",
    "    plug_in_entropy_values.append(entropy)\n",
    "\n",
    "import matplotlib.pyplot as plt\n",
    "plt.figure(figsize=(10, 5))\n",
    "plt.hist(plug_in_entropy_values, bins=20, edgecolor='black')\n",
    "plt.title('Entropy Distribution of Encoded Returns')\n",
    "plt.xlabel('Entropy Value')\n",
    "plt.ylabel('Frequency')\n",
    "plt.grid(axis='y', alpha=0.75)\n",
    "plt.show()"
   ]
  },
  {
   "cell_type": "markdown",
   "id": "37a364ee",
   "metadata": {},
   "source": [
    "(e) Compute the entropy of each of the 1000 encoded subsets,using the Kon\n",
    "toyiannis method, with a window size of 100"
   ]
  },
  {
   "cell_type": "code",
   "execution_count": 20,
   "id": "89e9568f",
   "metadata": {},
   "outputs": [
    {
     "data": {
      "image/png": "[encoded data removed]",
      "text/plain": [
       "<Figure size 1000x500 with 1 Axes>"
      ]
     },
     "metadata": {},
     "output_type": "display_data"
    }
   ],
   "source": [
    "konto_entropy_values=[]\n",
    "for col in encoder.columns:\n",
    "    encoder[col] = encoder[col].astype(int)\n",
    "    entropy = get_konto_entropy(encoder[col], window_length=100)\n",
    "    konto_entropy_values.append(entropy)\n",
    "\n",
    "plt.figure(figsize=(10, 5))\n",
    "plt.hist(konto_entropy_values, bins=20, edgecolor='black')\n",
    "plt.title('Konto Entropy Distribution of Encoded Returns')\n",
    "plt.xlabel('Konto Entropy Value')\n",
    "plt.ylabel('Frequency')\n",
    "plt.grid(axis='y', alpha=0.75)\n",
    "plt.show()"
   ]
  },
  {
   "cell_type": "markdown",
   "id": "261cde4e",
   "metadata": {},
   "source": [
    "(f) Compute the correlation between results2.d and 2.e."
   ]
  },
  {
   "cell_type": "code",
   "execution_count": 21,
   "id": "0a422ecc",
   "metadata": {},
   "outputs": [
    {
     "name": "stdout",
     "output_type": "stream",
     "text": [
      "Correlation between Plug-in Entropy and Konto Entropy: 0.6455978926884962\n"
     ]
    }
   ],
   "source": [
    "print('Correlation between Plug-in Entropy and Konto Entropy:', np.corrcoef(plug_in_entropy_values, konto_entropy_values)[0, 1])"
   ]
  },
  {
   "cell_type": "markdown",
   "id": "c267812c",
   "metadata": {},
   "source": [
    "18.3 Draw 1000 observations fromastandard Normal distribution:"
   ]
  },
  {
   "cell_type": "code",
   "execution_count": 23,
   "id": "4cf31fb9",
   "metadata": {},
   "outputs": [],
   "source": [
    "test_series=pd.Series(np.random.randn(1000))"
   ]
  },
  {
   "cell_type": "markdown",
   "id": "54deb25a",
   "metadata": {},
   "source": [
    "(a) What is the true entropy of this process?"
   ]
  },
  {
   "cell_type": "code",
   "execution_count": 31,
   "id": "cb728ca5",
   "metadata": {},
   "outputs": [
    {
     "name": "stdout",
     "output_type": "stream",
     "text": [
      "Entropy of test series: 1.3885855056048833\n"
     ]
    }
   ],
   "source": [
    "from scipy.stats import norm\n",
    "entorpy=0.5*np.log(2*np.pi*np.e*np.var(test_series))\n",
    "print(f'Entropy of test series: {entorpy}')"
   ]
  },
  {
   "cell_type": "markdown",
   "id": "2d726e80",
   "metadata": {},
   "source": [
    "(b) Label the observations according to 8 quantiles."
   ]
  },
  {
   "cell_type": "code",
   "execution_count": 32,
   "id": "7c7ed4e1",
   "metadata": {},
   "outputs": [
    {
     "name": "stdout",
     "output_type": "stream",
     "text": [
      "0    0.625\n",
      "1    0.625\n",
      "2    0.625\n",
      "3    0.625\n",
      "4    0.625\n",
      "dtype: float64\n",
      " 0.625000    625\n",
      " 0.750000    125\n",
      " 0.875000    124\n",
      "-1.189591      1\n",
      "-1.695917      1\n",
      "            ... \n",
      "-1.169346      1\n",
      "-1.265952      1\n",
      "-1.353719      1\n",
      "-1.189294      1\n",
      "-1.185389      1\n",
      "Name: count, Length: 129, dtype: int64\n"
     ]
    }
   ],
   "source": [
    "sorted_test_series=test_series.sort_values()\n",
    "quantile=np.arange(1/8, 1.01, 1/8)\n",
    "quantile_values = [get_fast_quantile(sorted_test_series, q) for q in quantile]\n",
    "for i in range(1, len(quantile)):\n",
    "    sorted_test_series[(sorted_test_series >= quantile_values[i-1]) & (sorted_test_series < quantile_values[i])] = quantile[i-1]\n",
    "quantile_encoding_test = sorted_test_series.sort_index()\n",
    "print(quantile_encoding_test.head())\n",
    "print(quantile_encoding_test.value_counts())"
   ]
  },
  {
   "cell_type": "markdown",
   "id": "bb61ed9f",
   "metadata": {},
   "source": [
    "(c) Estimate the entropy using the plug-in method."
   ]
  },
  {
   "cell_type": "code",
   "execution_count": 33,
   "id": "cd3105e8",
   "metadata": {},
   "outputs": [],
   "source": [
    "plug_in_test_entropy = get_plug_in_entropy(quantile_encoding_test, window_length=100)"
   ]
  },
  {
   "cell_type": "markdown",
   "id": "10c77220",
   "metadata": {},
   "source": [
    "(d) Estimate the entropy using the Kontoyiannis method:   \n",
    "(i) using a window size of 10.   \n",
    "(ii) using a window size of 100.   "
   ]
  },
  {
   "cell_type": "code",
   "execution_count": 34,
   "id": "66b71dd7",
   "metadata": {},
   "outputs": [
    {
     "name": "stdout",
     "output_type": "stream",
     "text": [
      "Plug-in Entropy of Test Series: 0.12666002032646234\n",
      "Konto Entropy of Test Series (window_length=10): 2.0100665695165114\n",
      "Konto Entropy of Test Series (window_length=100): 2.4614490004615384\n"
     ]
    }
   ],
   "source": [
    "konto_test_entropy_10 = get_konto_entropy(quantile_encoding_test, window_length=10)\n",
    "konto_test_entropy_100 = get_konto_entropy(quantile_encoding_test, window_length=100)\n",
    "print(f'Plug-in Entropy of Test Series: {plug_in_test_entropy}')\n",
    "print(f'Konto Entropy of Test Series (window_length=10): {konto_test_entropy_10}')\n",
    "print(f'Konto Entropy of Test Series (window_length=100): {konto_test_entropy_100}')"
   ]
  },
  {
   "cell_type": "markdown",
   "id": "5be2564b",
   "metadata": {},
   "source": [
    "18.4 Using the draws from exercise 3, $\\{x_t\\}_{t=1,...,1000}$"
   ]
  },
  {
   "cell_type": "markdown",
   "id": "bc6109cc",
   "metadata": {},
   "source": [
    "(a) Compute the $y_t=\\rho y_{t-1}+x_t$ where $\\rho=0.5, y_0=0$"
   ]
  },
  {
   "cell_type": "code",
   "execution_count": 35,
   "id": "7e42f071",
   "metadata": {},
   "outputs": [],
   "source": [
    "p=0.5\n",
    "y_list=[0]\n",
    "for i in range(test_series.shape[0]):\n",
    "    y_new=p*y_list[-1]+test_series.iloc[i]\n",
    "    y_list.append(y_new)"
   ]
  },
  {
   "cell_type": "markdown",
   "id": "2371a722",
   "metadata": {},
   "source": [
    "(b) Label $\\{y_t\\}$ the observations according to 8 quantiles"
   ]
  },
  {
   "cell_type": "code",
   "execution_count": 36,
   "id": "d3545043",
   "metadata": {},
   "outputs": [
    {
     "name": "stdout",
     "output_type": "stream",
     "text": [
      "0    0.625000\n",
      "1    0.625000\n",
      "2    0.625000\n",
      "3    0.625000\n",
      "4   -1.362878\n",
      "dtype: float64\n"
     ]
    }
   ],
   "source": [
    "sorted_y_series=pd.Series(y_list).sort_values()\n",
    "quantile_y=np.arange(1/8, 1.01, 1/8)\n",
    "quantile_y_values = [get_fast_quantile(sorted_y_series, q) for q in quantile_y]\n",
    "for i in range(1, len(quantile_y)):\n",
    "    sorted_y_series[(sorted_y_series >= quantile_y_values[i-1]) & (sorted_y_series < quantile_y_values[i])] = quantile_y[i-1]\n",
    "quantile_y_encoding = sorted_y_series.sort_index()\n",
    "print(quantile_y_encoding.head())"
   ]
  },
  {
   "cell_type": "markdown",
   "id": "3da40229",
   "metadata": {},
   "source": [
    "(c) Estimate the entropy using the plug-in method"
   ]
  },
  {
   "cell_type": "code",
   "execution_count": 37,
   "id": "9026ac78",
   "metadata": {},
   "outputs": [],
   "source": [
    "plug_in_y_entropy = get_plug_in_entropy(quantile_y_encoding, window_length=100)"
   ]
  },
  {
   "cell_type": "markdown",
   "id": "df376d02",
   "metadata": {},
   "source": [
    "(d) Estimate the entropy using the Kontoyiannis method:   \n",
    "(i) using a window size of 10.   \n",
    "(ii) using a window size of 100.   "
   ]
  },
  {
   "cell_type": "code",
   "execution_count": 38,
   "id": "e4da880e",
   "metadata": {},
   "outputs": [
    {
     "name": "stdout",
     "output_type": "stream",
     "text": [
      "Plug-in Entropy of Y Series: 0.1266666784068918\n",
      "Konto Entropy of Y Series (window_length=10): 1.9364625485507503\n",
      "Konto Entropy of Y Series (window_length=100): 2.4451977269851226\n"
     ]
    }
   ],
   "source": [
    "konto_y_entropy_10 = get_konto_entropy(quantile_y_encoding, window_length=10)\n",
    "konto_y_entropy_100 = get_konto_entropy(quantile_y_encoding, window_length=100)\n",
    "print(f'Plug-in Entropy of Y Series: {plug_in_y_entropy}')\n",
    "print(f'Konto Entropy of Y Series (window_length=10): {konto_y_entropy_10}')\n",
    "print(f'Konto Entropy of Y Series (window_length=100): {konto_y_entropy_100}')"
   ]
  },
  {
   "cell_type": "markdown",
   "id": "44b4e099",
   "metadata": {},
   "source": [
    "18.5 Suppose a portfolio of 10 holdings with equal dollar allocations"
   ]
  },
  {
   "cell_type": "markdown",
   "id": "deb28f47",
   "metadata": {},
   "source": [
    "(a) The portion of the total risk contributed by the ith principal component is\n",
    "$\\frac{1}{10}\\ i= 1,…,10.$. What is the portfolio’s entropy?\n",
    "\n",
    "실제 계산상으로는 0이여야한다."
   ]
  },
  {
   "cell_type": "code",
   "execution_count": null,
   "id": "bd3fae6c",
   "metadata": {},
   "outputs": [
    {
     "name": "stdout",
     "output_type": "stream",
     "text": [
      "Portfolio Entropy: 1.1102230246251565e-16\n"
     ]
    }
   ],
   "source": [
    "def get_portfolio_entropy(risk_contributions: np.ndarray)-> float:\n",
    "   portfolio_concentration=-np.sum(risk_contributions * np.log(risk_contributions))\n",
    "   return 1-(1/len(risk_contributions)) * np.exp(portfolio_concentration)\n",
    "\n",
    "risk_contributions = np.array([0.1]*10)\n",
    "portfolio_entropy = get_portfolio_entropy(risk_contributions)\n",
    "print(f'Portfolio Entropy: {portfolio_entropy}')"
   ]
  },
  {
   "cell_type": "markdown",
   "id": "4773c00b",
   "metadata": {},
   "source": [
    "(b) The portion of the total risk contributed by the ith principal component is\n",
    "$1-\\frac{i}{55}, i= 1,…,10$. What is the portfolio’s entropy?"
   ]
  },
  {
   "cell_type": "code",
   "execution_count": 40,
   "id": "27419732",
   "metadata": {},
   "outputs": [
    {
     "name": "stdout",
     "output_type": "stream",
     "text": [
      "Portfolio Entropy with Decreasing Risk Contributions: 0.7457677623500972\n"
     ]
    }
   ],
   "source": [
    "risk_contributions=np.array([1-i/55 for i in range(1, 11)])\n",
    "portfolio_entropy = get_portfolio_entropy(risk_contributions)\n",
    "print(f'Portfolio Entropy with Decreasing Risk Contributions: {portfolio_entropy}')"
   ]
  },
  {
   "cell_type": "markdown",
   "id": "e9a9abed",
   "metadata": {},
   "source": [
    "(c) The portion of the total risk contributed by the ith principal components is\n",
    "$\\alpha\\frac{1}{10}+(1-\\alpha)(1-\\frac{i}{55})\\ i= 1,…,10, \\alpha \\in [0,1]$\n",
    "Plot the portolio’s entropy as a function of $\\alpha$"
   ]
  },
  {
   "cell_type": "code",
   "execution_count": 43,
   "id": "db22098f",
   "metadata": {},
   "outputs": [
    {
     "data": {
      "image/png": "[encoded data removed]",
      "text/plain": [
       "<Figure size 1000x500 with 1 Axes>"
      ]
     },
     "metadata": {},
     "output_type": "display_data"
    }
   ],
   "source": [
    "alphas=np.linspace(0.0, 1.0,100)\n",
    "entropy_list = []\n",
    "for alpha in alphas:\n",
    "    risk_contributions = np.array([alpha * 1/10 + (1 - alpha) * (1-(i/55)) for i in range(1, 11)])\n",
    "    portfolio_entropy = get_portfolio_entropy(risk_contributions)\n",
    "    entropy_list.append(portfolio_entropy)\n",
    "\n",
    "import matplotlib.pyplot as plt\n",
    "plt.figure(figsize=(10, 5))\n",
    "plt.plot(alphas, entropy_list, label='Portfolio Entropy vs Alpha')\n",
    "plt.title('Portfolio Entropy as a Function of Alpha')\n",
    "plt.xlabel('Alpha')\n",
    "plt.ylabel('Portfolio Entropy')\n",
    "plt.grid()\n",
    "plt.legend()\n",
    "plt.show()\n"
   ]
  },
  {
   "cell_type": "markdown",
   "id": "e922bd1a",
   "metadata": {},
   "source": []
  }
 ],
 "metadata": {
  "kernelspec": {
   "display_name": "AFML",
   "language": "python",
   "name": "python3"
  },
  "language_info": {
   "codemirror_mode": {
    "name": "ipython",
    "version": 3
   },
   "file_extension": ".py",
   "mimetype": "text/x-python",
   "name": "python",
   "nbconvert_exporter": "python",
   "pygments_lexer": "ipython3",
   "version": "3.12.9"
  }
 },
 "nbformat": 4,
 "nbformat_minor": 5
}
