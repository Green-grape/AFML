{
 "cells": [
  {
   "cell_type": "markdown",
   "id": "6265e5bc",
   "metadata": {},
   "source": [
    "15.1 A portfolio manager intends to launch a strategy that targets anannualized SR of  \n",
    "2. Bets have a precision rate of 60%,with weekly frequency.The exit conditions  \n",
    "are 2% for profit-taking, and –2% for stop-loss.  "
   ]
  },
  {
   "cell_type": "markdown",
   "id": "705c5e5d",
   "metadata": {},
   "source": [
    "(a) Is this strategy viable?\n",
    "\n",
    "원하는 sharpe에 도달하지 못하였으므로 생존이 불가능하다.\n"
   ]
  },
  {
   "cell_type": "code",
   "execution_count": 1,
   "id": "0e3cf89a",
   "metadata": {},
   "outputs": [
    {
     "name": "stdout",
     "output_type": "stream",
     "text": [
      "Annualized Sharpe Ratio: 1.4720\n"
     ]
    }
   ],
   "source": [
    "import math\n",
    "import numpy as np\n",
    "import pandas as pd\n",
    "\n",
    "def get_annualized_sharpe_ratio(precision, pt, sl, number_of_trades, **kwargs):\n",
    "    expected_return = precision * pt + (1 - precision) * sl\n",
    "    variance = precision * pt**2 + (1 - precision) * sl**2 - expected_return**2\n",
    "    sharpe_ratio = expected_return / variance**0.5\n",
    "    annualized_sharpe_ratio = sharpe_ratio * (number_of_trades**0.5)\n",
    "    return annualized_sharpe_ratio\n",
    "\n",
    "precision=0.6\n",
    "pt=0.02\n",
    "sl=-0.02\n",
    "\n",
    "annualized_sharpe_ratio = get_annualized_sharpe_ratio(precision, pt, sl, 52)\n",
    "print(f\"Annualized Sharpe Ratio: {annualized_sharpe_ratio:.4f}\")"
   ]
  },
  {
   "cell_type": "markdown",
   "id": "2265ead7",
   "metadata": {},
   "source": [
    "(b) Ceteris paribus, what is the required precision rate that would make the\n",
    "strategy profitable?"
   ]
  },
  {
   "cell_type": "code",
   "execution_count": 2,
   "id": "9df63f54",
   "metadata": {},
   "outputs": [
    {
     "name": "stdout",
     "output_type": "stream",
     "text": [
      "Target Precision: 0.6336\n"
     ]
    }
   ],
   "source": [
    "from sympy import symbols, Eq, solve\n",
    "\n",
    "def get_target_precision(target_sharpe_ratio, pt, sl, freq):\n",
    "    a=(freq+target_sharpe_ratio**2)*(pt-sl)**2\n",
    "    b=(2*freq*sl-target_sharpe_ratio**2*(pt-sl))*(pt-sl)\n",
    "    c=freq*sl**2\n",
    "    x=symbols('x')\n",
    "    eq = Eq(a*x**2 + b*x + c, 0)\n",
    "    solutions = solve(eq, x)\n",
    "    solutions=[s for s in solutions if s.is_real and s > 0]\n",
    "    if not solutions:\n",
    "        return None\n",
    "    return max(solutions)\n",
    "\n",
    "target_precision=get_target_precision(2.0, 0.02, -0.02, 52)\n",
    "print(f\"Target Precision: {target_precision:.4f}\")\n",
    "\n"
   ]
  },
  {
   "cell_type": "markdown",
   "id": "5e116a7a",
   "metadata": {},
   "source": [
    "(c) For what betting frequency is the target achievable?"
   ]
  },
  {
   "cell_type": "code",
   "execution_count": 3,
   "id": "abab5c3f",
   "metadata": {},
   "outputs": [
    {
     "name": "stdout",
     "output_type": "stream",
     "text": [
      "Target Bet Size: 96\n"
     ]
    }
   ],
   "source": [
    "def get_target_bet_size(target_sharpe_ratio, pt, sl, precision):\n",
    "    expected_return = precision * pt + (1 - precision) * sl\n",
    "    variance = precision * pt**2 + (1 - precision) * sl**2 - expected_return**2\n",
    "    sharpe_ratio = expected_return / variance**0.5\n",
    "    return round((target_sharpe_ratio/sharpe_ratio)**2)\n",
    "\n",
    "target_bet_size = get_target_bet_size(2.0, 0.02, -0.02, 0.6)\n",
    "print(f\"Target Bet Size: {target_bet_size}\")"
   ]
  },
  {
   "cell_type": "markdown",
   "id": "33b80955",
   "metadata": {},
   "source": [
    "(d) For what profit-taking threshold is the target achievable?"
   ]
  },
  {
   "cell_type": "code",
   "execution_count": 4,
   "id": "61bf0e28",
   "metadata": {},
   "outputs": [
    {
     "name": "stdout",
     "output_type": "stream",
     "text": [
      "Target Profit Taking: 0.0231\n"
     ]
    }
   ],
   "source": [
    "def get_target_profit_taking(target_sharpe_ratio, precision, sl, freq):\n",
    "    temp=target_sharpe_ratio*np.sqrt(precision*(1-precision))/np.sqrt(freq)-precision\n",
    "    return sl*(1+1/temp)\n",
    "\n",
    "target_profit_taking = get_target_profit_taking(2.0, 0.6, -0.02, 52)\n",
    "print(f\"Target Profit Taking: {target_profit_taking:.4f}\")"
   ]
  },
  {
   "cell_type": "markdown",
   "id": "aa0905dc",
   "metadata": {},
   "source": [
    "(e) What Would be an alternative stop-loss?"
   ]
  },
  {
   "cell_type": "code",
   "execution_count": 5,
   "id": "200a19b2",
   "metadata": {},
   "outputs": [
    {
     "name": "stdout",
     "output_type": "stream",
     "text": [
      "Target Stop Loss: -0.0173\n"
     ]
    }
   ],
   "source": [
    "def get_target_stop_loss(target_sharpe_ratio, precision, pt, freq):\n",
    "    temp=target_sharpe_ratio*np.sqrt(precision*(1-precision))/np.sqrt(freq)-precision\n",
    "    return pt/(1+1/temp)\n",
    "\n",
    "target_stop_loss = get_target_stop_loss(2.0, 0.6, 0.02, 52)\n",
    "print(f\"Target Stop Loss: {target_stop_loss:.4f}\")"
   ]
  },
  {
   "cell_type": "markdown",
   "id": "84ccf86f",
   "metadata": {},
   "source": [
    "15.2 Following up on the strategy from exercise 1."
   ]
  },
  {
   "cell_type": "markdown",
   "id": "26d2e730",
   "metadata": {},
   "source": [
    "(a) What is the sensitivity of SR to a 1% change in each parameter? \n",
    "\n",
    "precision에 가장 민감하다"
   ]
  },
  {
   "cell_type": "code",
   "execution_count": 6,
   "id": "728624b3",
   "metadata": {},
   "outputs": [
    {
     "name": "stdout",
     "output_type": "stream",
     "text": [
      "Difference for precision: 13.7836\n",
      "Difference for pt: 5.5292\n",
      "Difference for sl: -5.5292\n",
      "Difference for number_of_trades: 1.1049\n"
     ]
    }
   ],
   "source": [
    "import inspect\n",
    "\n",
    "def get_partial_derivative(precision, pt, sl, number_of_trades, diff_ratio=0.01, target_parameter='pt'):\n",
    "    frame=inspect.currentframe()\n",
    "    args, _, _, values = inspect.getargvalues(frame)\n",
    "    if target_parameter not in args:\n",
    "        raise ValueError(f\"Parameter '{target_parameter}' not found in function arguments.\")\n",
    "    \n",
    "    original_target=get_annualized_sharpe_ratio(precision, pt, sl, number_of_trades)\n",
    "    param_map={arg: values[arg] for arg in args}\n",
    "    param_map[target_parameter] *= (1 + diff_ratio)\n",
    "    new_target=get_annualized_sharpe_ratio(**param_map)\n",
    "    param_map[target_parameter] /= (1 + diff_ratio)\n",
    "    param_map[target_parameter] *= (1 - diff_ratio)\n",
    "    new_target2=get_annualized_sharpe_ratio(**param_map)\n",
    "    return ((original_target-new_target2)/diff_ratio+(new_target-new_target2)/diff_ratio)/2\n",
    "\n",
    "for param in ['precision', 'pt', 'sl', 'number_of_trades']:\n",
    "    diff = get_partial_derivative(0.6, 0.02, -0.02, 52, target_parameter=param)\n",
    "    print(f\"Difference for {param}: {diff:.4f}\")"
   ]
  },
  {
   "cell_type": "markdown",
   "id": "257ab5fa",
   "metadata": {},
   "source": [
    "(b) Given these sensitivities,and assuming that all parameters are equally hard  \n",
    "to improve, which one offers the lowest hanging fruit?  \n",
    "\n",
    "모두 개선하기는 난이도가 비슷하다면 Precision을 개선하는 것이 가장 쉬운 방법일 것이다."
   ]
  },
  {
   "cell_type": "markdown",
   "id": "e3d0c4a1",
   "metadata": {},
   "source": [
    "(c) Does changing any of the parameters in exercise 1 impact the others ? For\n",
    "example, does changing the betting frequency modify the precision rate,\n",
    "etc.?\n",
    "\n",
    "그럴수 있을 것이다. precision을 개선하기 위해서 특정정보를 사용한다고 가정했을때 해당 정보의 주기가 현재 거래 주기보다 길때 freq를 더 길게 가져가게 될 수 있다."
   ]
  },
  {
   "cell_type": "markdown",
   "id": "e24f845d",
   "metadata": {},
   "source": [
    "15.3 Suppose a strategy that generates monthly bets over two years, with returns  \n",
    "following a mixture of two Gaussian distributions. The first distribution has  \n",
    "a mean of –0.1 and a standard deviation of 0.12. The second distribution has  \n",
    "a mean of 0.06 and a standard deviation of 0.03. The probability that a draw  \n",
    "comes from the first distribution is 0.15."
   ]
  },
  {
   "cell_type": "markdown",
   "id": "fe997ff8",
   "metadata": {},
   "source": [
    "(a) Following L´ opez de Prado and Peijan[2004] and L´ opezde Prado and Fore-\n",
    "man [2014], derive the first four moments for the mixture’s returns."
   ]
  },
  {
   "cell_type": "code",
   "execution_count": 7,
   "id": "b8198da5",
   "metadata": {},
   "outputs": [
    {
     "name": "stdout",
     "output_type": "stream",
     "text": [
      "Mean: 0.0870\n",
      "Variance: 0.0150\n",
      "Skewness: 0.0014\n",
      "Kurtosis: 0.0003\n",
      "5th moment: 0.0001\n"
     ]
    }
   ],
   "source": [
    "from ef3m import EF3M\n",
    "\n",
    "mu1=-0.1\n",
    "sigma1=0.12\n",
    "mu2=0.06\n",
    "sigma2=0.03\n",
    "p1=0.15\n",
    "\n",
    "ef3m_instance=EF3M()\n",
    "moments=ef3m_instance.get_moments(mu1, sigma1, mu2, sigma2, p1)\n",
    "moments_names=['mean', 'variance', 'skewness', 'kurtosis', '5th moment']\n",
    "for name, value in zip(moments_names, moments):\n",
    "    print(f\"{name.capitalize()}: {value:.4f}\")"
   ]
  },
  {
   "cell_type": "markdown",
   "id": "0dab9a18",
   "metadata": {},
   "source": [
    "(b) What is the annualized SR?"
   ]
  },
  {
   "cell_type": "code",
   "execution_count": 8,
   "id": "01f6ba62",
   "metadata": {},
   "outputs": [
    {
     "name": "stdout",
     "output_type": "stream",
     "text": [
      "Annualized Sharpe Ratio: 3.4748\n"
     ]
    }
   ],
   "source": [
    "sr=moments[0] / moments[1]**0.5\n",
    "number_of_trades=24\n",
    "asr=sr * (number_of_trades**0.5)\n",
    "print(f\"Annualized Sharpe Ratio: {asr:.4f}\")"
   ]
  },
  {
   "cell_type": "markdown",
   "id": "537ca67c",
   "metadata": {},
   "source": [
    "(c) Using those moments, compute PSR[1] (see Chapter 14). At a 95% confi-\n",
    "dence level, would you discard this strategy?\n",
    "\n",
    "PSR이 99.52%이므로 strategy를 discard하지 않을 것이다."
   ]
  },
  {
   "cell_type": "code",
   "execution_count": 9,
   "id": "5c7855cf",
   "metadata": {},
   "outputs": [
    {
     "name": "stdout",
     "output_type": "stream",
     "text": [
      "Probability of Superior Returns (PSR): 0.9952\n"
     ]
    }
   ],
   "source": [
    "from scipy.stats import norm\n",
    "import numpy as np\n",
    "\n",
    "def get_psr(bm_sr, moments, number_of_trades):\n",
    "    ob_mean, ob_variance, ob_skewness, ob_kurtosis, ob_5th_moment = moments\n",
    "    ob_sr=ob_mean/ob_variance**0.5\n",
    "    t_value=(ob_sr-bm_sr)*np.sqrt(number_of_trades-1)/np.sqrt(1-ob_skewness*ob_sr+(ob_kurtosis-1)/4*ob_sr**2)\n",
    "    return norm.cdf(t_value)\n",
    "\n",
    "psr=get_psr(1/np.sqrt(number_of_trades), moments, number_of_trades)\n",
    "print(f\"Probability of Superior Returns (PSR): {psr:.4f}\")"
   ]
  },
  {
   "cell_type": "markdown",
   "id": "bf48c0f1",
   "metadata": {},
   "source": [
    "15.4 Using Snippet15.5, compute P[p < p𝜃∗=1] for the strategy described in exercise  \n",
    "3. At a significance level of 0.05, would you discard this strategy ? Is this result  \n",
    "consistent with PSR[𝜃∗]?  \n",
    "\n",
    "유의수준 0.05를 훨씬 초과한 38.7%가 나오므로 이 전략을 폐기해야한다, 이는 PSR의 결과와 일치하지 않는다."
   ]
  },
  {
   "cell_type": "code",
   "execution_count": 10,
   "id": "c58184db",
   "metadata": {},
   "outputs": [
    {
     "name": "stdout",
     "output_type": "stream",
     "text": [
      "Probability of Failure: 0.3789\n"
     ]
    }
   ],
   "source": [
    "def get_mix_gaussian_samples(mu1, sigma1, mu2, sigma2, p1, n_samples):\n",
    "        n1 = int(n_samples * p1)\n",
    "        n2 = n_samples - n1\n",
    "        samples1 = np.random.normal(mu1, sigma1, n1)\n",
    "        samples2 = np.random.normal(mu2, sigma2, n2)\n",
    "        ret=np.concatenate((samples1, samples2))\n",
    "        np.random.shuffle(ret)\n",
    "        return ret\n",
    "\n",
    "def get_prob_failure(target_sr, freq, samples:np.ndarray):\n",
    "    mean_pos, mean_neg = np.mean(samples[samples > 0]), np.mean(samples[samples <= 0])\n",
    "    precision=samples[samples > 0].shape[0]/samples.shape[0]\n",
    "    target_precision = get_target_precision(target_sr, mean_pos, mean_neg, freq)\n",
    "    risk=norm.cdf(float(target_precision), loc=precision, scale=np.sqrt(precision*(1-precision)))\n",
    "    return risk\n",
    "\n",
    "n_samples = 10000\n",
    "samples = get_mix_gaussian_samples(mu1, sigma1, mu2, sigma2, p1, n_samples)\n",
    "target_sr = 1.0\n",
    "freq=24\n",
    "prob_failure = get_prob_failure(target_sr, freq, samples)\n",
    "print(f\"Probability of Failure: {prob_failure:.4f}\")\n",
    "\n",
    "    "
   ]
  },
  {
   "cell_type": "markdown",
   "id": "1d60d1ae",
   "metadata": {},
   "source": [
    "15.5 In general, what result do you expect to be more accurate, PSR[𝜃∗] or\n",
    "P[p < p𝜃∗=1]?   How are these two methods complementary?\n",
    "\n",
    "P[p < p𝜃∗=1]는 EF3M을 통해서 현재 포트폴리오 매니저의 제어안에서 발생한 return 결과인지 아닌지를 판단할 수 있어 좀 더 정확할 것이다. (pt, sl, number_of_trades) 활용\n",
    "PSR은 실제 전략이 통계적으로 유의한가를 판단하고, P[p < p𝜃∗=1]는 전략을 버릴지 말지에 대한 평가를 하거나 전략을 디자인하는데 활용할 수 있다."
   ]
  },
  {
   "cell_type": "markdown",
   "id": "40afb95b",
   "metadata": {},
   "source": [
    "15.6 Re-examine the results from Chapter 13, in light of what you have learned in\n",
    "thischapter."
   ]
  },
  {
   "cell_type": "markdown",
   "id": "c146b053",
   "metadata": {},
   "source": [
    "(a) Does the asymmetry between profit taking and stop-loss thresholds in OTRs\n",
    "make sense?\n",
    "\n",
    "위의 get_target_stop_loss와 get_target_profit_taking의 함수가 완전히 일치하지 않으므로\n",
    "전략을 달성하기 위한 최선의 profit-taking과 stop-loss가 완전히 대칭형태가 아니다, 따라서 유의미하다\n"
   ]
  },
  {
   "cell_type": "markdown",
   "id": "a18fdf45",
   "metadata": {},
   "source": [
    "(b) What is the range of p implied by Figure13.1 ,for a daily betting frequency?"
   ]
  },
  {
   "cell_type": "code",
   "execution_count": 11,
   "id": "6e2737d3",
   "metadata": {},
   "outputs": [
    {
     "data": {
      "image/png": "[encoded data removed]",
      "text/plain": [
       "<Figure size 1000x600 with 2 Axes>"
      ]
     },
     "metadata": {},
     "output_type": "display_data"
    }
   ],
   "source": [
    "from itertools import product\n",
    "\n",
    "rule_pt=rule_sl=np.linspace(0.5, 10, 20)\n",
    "def get_trading_sharpe_by_ou_process(params, iter_cnt=1e3, max_hold_period=100, \n",
    "                                      seed_price=100, rule_pt=rule_pt, rule_sl=rule_sl, bet_freq=1):\n",
    "    phi=2**(-1/params['hold_time'])\n",
    "    ret=pd.DataFrame(index=rule_pt, columns=rule_sl, \n",
    "                     data=np.zeros((len(rule_pt), len(rule_sl))))\n",
    "    for pt, sl in product(rule_pt, rule_sl):\n",
    "        temp=[]\n",
    "        for _ in range(int(iter_cnt)):\n",
    "            cur_price=seed_price\n",
    "            for i in range(max_hold_period):\n",
    "                cur_price=(1-phi)*params['forecast']+phi*cur_price+ np.random.normal(0, params['sigma'])\n",
    "                price_diff=cur_price-seed_price\n",
    "                if ((i+1)%bet_freq==0 and (price_diff >pt or price_diff < -sl)) or i==max_hold_period-1:\n",
    "                    temp.append(price_diff)\n",
    "                    break\n",
    "        mean_ret=np.mean(temp)\n",
    "        std_ret=np.std(temp)\n",
    "        sharpe=(mean_ret/std_ret) if std_ret != 0 else 0\n",
    "        ret.loc[pt, sl]=sharpe\n",
    "    return ret\n",
    "\n",
    "params = {\n",
    "    'forecast': 0,\n",
    "    'sigma':1,\n",
    "    'hold_time':5\n",
    "}\n",
    "\n",
    "sharpe_df = get_trading_sharpe_by_ou_process(params, iter_cnt=1e4)\n",
    "precision_list=[]\n",
    "max_precision=0\n",
    "min_precision=float('inf')\n",
    "for pt, sl in product(rule_pt, rule_sl):\n",
    "    sr= sharpe_df.loc[pt, sl]\n",
    "    p=get_target_precision(sr, pt, -sl, 1e4)\n",
    "    precision_list.append((pt, sl, p))\n",
    "    if p is not None:\n",
    "        max_precision = max(max_precision, p)\n",
    "        min_precision = min(min_precision, p)\n",
    "\n",
    "import matplotlib.pyplot as plt\n",
    "plt.figure(figsize=(10, 6))\n",
    "for pt, sl, precision in precision_list:\n",
    "    plt.scatter(pt, sl, c=precision, cmap='viridis', alpha=0.5)\n",
    "plt.colorbar(label=f'Precision')\n",
    "plt.xlabel('Profit Taking (pt)')\n",
    "plt.ylabel('Stop Loss (sl)')\n",
    "plt.title(f'Precision (MAX:{max_precision:.2f}, MIN:{min_precision:.2f}) vs Profit Taking and Stop Loss')\n",
    "plt.grid()\n",
    "plt.show()"
   ]
  },
  {
   "cell_type": "markdown",
   "id": "7844d807",
   "metadata": {},
   "source": [
    "(c) What is the range of p implied by Figure 13.5, for a weekly betting frequency?"
   ]
  },
  {
   "cell_type": "code",
   "execution_count": null,
   "id": "6a409338",
   "metadata": {},
   "outputs": [
    {
     "data": {
      "image/png": "[encoded data removed]",
      "text/plain": [
       "<Figure size 1000x600 with 2 Axes>"
      ]
     },
     "metadata": {},
     "output_type": "display_data"
    }
   ],
   "source": [
    "sharpe_df = get_trading_sharpe_by_ou_process(params, iter_cnt=1e4, bet_freq=5)\n",
    "precision_list=[]\n",
    "max_precision = 0\n",
    "min_precision = float('inf')\n",
    "for pt, sl in product(rule_pt, rule_sl):\n",
    "    sr= sharpe_df.loc[pt, sl]\n",
    "    p=get_target_precision(sr, pt, -sl, 1e4)\n",
    "    precision_list.append((pt, sl, p))\n",
    "    max_precision = max(max_precision, p)\n",
    "    min_precision = min(min_precision, p)\n",
    "\n",
    "import matplotlib.pyplot as plt\n",
    "plt.figure(figsize=(10, 6))\n",
    "for pt, sl, precision in precision_list:\n",
    "    plt.scatter(pt, sl, c=precision, cmap='viridis', alpha=0.5)\n",
    "plt.colorbar(label=f'Precision')\n",
    "plt.xlabel('Profit Taking (pt)')\n",
    "plt.ylabel('Stop Loss (sl)')\n",
    "plt.title(f'Precision (MAX:{max_precision:.2f}, MIN:{min_precision:.2f}) vs Profit Taking and Stop Loss')\n",
    "plt.grid()\n",
    "plt.show()\n"
   ]
  },
  {
   "cell_type": "code",
   "execution_count": null,
   "id": "fd233fe3",
   "metadata": {},
   "outputs": [],
   "source": []
  }
 ],
 "metadata": {
  "kernelspec": {
   "display_name": "AFML",
   "language": "python",
   "name": "python3"
  },
  "language_info": {
   "codemirror_mode": {
    "name": "ipython",
    "version": 3
   },
   "file_extension": ".py",
   "mimetype": "text/x-python",
   "name": "python",
   "nbconvert_exporter": "python",
   "pygments_lexer": "ipython3",
   "version": "3.12.9"
  }
 },
 "nbformat": 4,
 "nbformat_minor": 5
}
